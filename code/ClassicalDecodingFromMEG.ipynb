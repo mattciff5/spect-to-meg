{
 "cells": [
  {
   "cell_type": "code",
   "execution_count": 1,
   "metadata": {},
   "outputs": [],
   "source": [
    "from collect_data import *\n",
    "import numpy as np\n",
    "import matplotlib.pyplot as plt\n",
    "from sklearn.model_selection import train_test_split\n",
    "from sklearn.metrics import confusion_matrix, cohen_kappa_score\n",
    "from sklearn.linear_model import LogisticRegression\n",
    "from sklearn.pipeline import make_pipeline\n",
    "from sklearn.preprocessing import StandardScaler\n",
    "\n",
    "import mne\n",
    "from mne.datasets import sample\n",
    "from mne.decoding import (\n",
    "    CSP,\n",
    "    GeneralizingEstimator,\n",
    "    LinearModel,\n",
    "    Scaler,\n",
    "    SlidingEstimator,\n",
    "    Vectorizer,\n",
    "    cross_val_multiscore,\n",
    "    get_coef,\n",
    ")\n",
    "\n",
    "import pickle\n"
   ]
  },
  {
   "cell_type": "code",
   "execution_count": 2,
   "metadata": {},
   "outputs": [],
   "source": [
    "subject=\"01\"\n",
    "session=\"0\"\n",
    "task=\"0\"\n",
    "\n",
    "load=True\n",
    "if not load:\n",
    "\n",
    "    epochs_list = []\n",
    "    for session in [\"0\"]:\n",
    "        for task in [0, 1, 2, 3]:\n",
    "            bids_path = mne_bids.BIDSPath(\n",
    "                subject=subject,\n",
    "                session=str(session),\n",
    "                task=str(task),\n",
    "                datatype=\"meg\",\n",
    "                root=\"/home/matteo/data/MEG\",\n",
    "            )\n",
    "            try:\n",
    "                raw = mne_bids.read_raw_bids(bids_path)\n",
    "            except FileNotFoundError:\n",
    "                print(\"missing\", subject, session, task)\n",
    "                pass\n",
    "            raw = raw.pick_types(\n",
    "                meg=True, misc=False, eeg=False, eog=False, ecg=False\n",
    "            )\n",
    "\n",
    "            raw.load_data().filter(0.5, 30.0, n_jobs=1)\n",
    "\n",
    "            meta = list()\n",
    "            for annot in raw.annotations:\n",
    "                d = eval(annot.pop(\"description\"))\n",
    "                for k, v in annot.items():\n",
    "                    assert k not in d.keys()\n",
    "                    d[k] = v\n",
    "                meta.append(d)\n",
    "            meta = pd.DataFrame(meta)\n",
    "            meta[\"intercept\"] = 1.0\n",
    "\n",
    "\n",
    "            meta=meta[meta[\"kind\"]==\"word\"]    \n",
    "\n",
    "            # segment\n",
    "            events = np.c_[\n",
    "                meta.onset * raw.info[\"sfreq\"], np.ones((len(meta), 2))\n",
    "            ].astype(int)\n",
    "            \n",
    "\n",
    "            epochs = mne.Epochs(\n",
    "            raw,\n",
    "            events,\n",
    "            tmin=-0.200,\n",
    "            tmax=0.5,\n",
    "            decim=10,\n",
    "            baseline=(-0.2, 0.0),\n",
    "            metadata=meta,\n",
    "            preload=True,\n",
    "            event_repeated=\"drop\",\n",
    "        )\n",
    "\n",
    "            # threshold\n",
    "            th = np.percentile(np.abs(epochs._data), 95)\n",
    "            epochs._data[:] = np.clip(epochs._data, -th, th)\n",
    "            epochs.apply_baseline()\n",
    "            th = np.percentile(np.abs(epochs._data), 5)\n",
    "            epochs._data[:] = np.clip(epochs._data, -th, th)\n",
    "            epochs.apply_baseline()\n",
    "\n",
    "            epochs_list.append(epochs)\n",
    "    with open(meg_path+'/epochs_list_subj01.pkl', 'wb') as f:\n",
    "        pickle.dump(epochs_list, f)\n",
    "else:\n",
    "\n",
    "    with open(meg_path+'/epochs_list_subj01.pkl', 'rb') as f:\n",
    "        epochs_list = pickle.load(f)\n"
   ]
  },
  {
   "cell_type": "code",
   "execution_count": 3,
   "metadata": {},
   "outputs": [
    {
     "name": "stderr",
     "output_type": "stream",
     "text": [
      "/tmp/ipykernel_1414660/3376065280.py:3: RuntimeWarning: Concatenation of Annotations within Epochs is not supported yet. All annotations will be dropped.\n",
      "  concatenated_epochs = mne.concatenate_epochs(epochs_list)\n"
     ]
    },
    {
     "name": "stdout",
     "output_type": "stream",
     "text": [
      "Adding metadata with 18 columns\n",
      "8561 matching events found\n",
      "Applying baseline correction (mode: mean)\n"
     ]
    },
    {
     "data": {
      "text/html": [
       "<table class=\"table table-hover table-striped table-sm table-responsive small\">\n",
       "    <tr>\n",
       "        <th>Number of events</th>\n",
       "        <td>8561</td>\n",
       "    </tr>\n",
       "    <tr>\n",
       "        <th>Events</th>\n",
       "        \n",
       "        <td>1: 8561</td>\n",
       "        \n",
       "    </tr>\n",
       "    <tr>\n",
       "        <th>Time range</th>\n",
       "        <td>-0.200 – 0.500 s</td>\n",
       "    </tr>\n",
       "    <tr>\n",
       "        <th>Baseline</th>\n",
       "        <td>-0.200 – 0.000 s</td>\n",
       "    </tr>\n",
       "</table>"
      ],
      "text/plain": [
       "<EpochsArray |  8561 events (all good), -0.2 – 0.5 s, baseline -0.2 – 0 s, ~964.8 MB, data loaded, with metadata,\n",
       " '1': 8561>"
      ]
     },
     "execution_count": 3,
     "metadata": {},
     "output_type": "execute_result"
    }
   ],
   "source": [
    "#concate epochs\n",
    "\n",
    "concatenated_epochs = mne.concatenate_epochs(epochs_list)\n",
    "concatenated_epochs\n",
    "\n",
    "#save everything using pickle\n"
   ]
  },
  {
   "cell_type": "code",
   "execution_count": 8,
   "metadata": {},
   "outputs": [],
   "source": [
    "\n",
    "import pickle\n"
   ]
  },
  {
   "cell_type": "code",
   "execution_count": 4,
   "metadata": {},
   "outputs": [],
   "source": [
    "#now for each epoch get the data and label, using the voice as label\n",
    "\n",
    "X=concatenated_epochs.get_data()\n",
    "y=concatenated_epochs._metadata.voice\n",
    "\n",
    "#split the train and test set\n",
    "X_train, X_test, y_train, y_test = train_test_split(X, y, test_size=0.30, random_state=42)"
   ]
  },
  {
   "cell_type": "code",
   "execution_count": 5,
   "metadata": {},
   "outputs": [],
   "source": [
    "#encode the labels\n",
    "from sklearn import preprocessing\n",
    "le = preprocessing.LabelEncoder()\n",
    "le.fit(y_train)\n",
    "y_train=le.transform(y_train)\n",
    "y_test=le.transform(y_test)\n"
   ]
  },
  {
   "cell_type": "code",
   "execution_count": 6,
   "metadata": {},
   "outputs": [
    {
     "data": {
      "text/plain": [
       "((5992, 208, 71), (2569, 208, 71), (5992,), (2569,))"
      ]
     },
     "execution_count": 6,
     "metadata": {},
     "output_type": "execute_result"
    }
   ],
   "source": [
    "X_train.shape, X_test.shape, y_train.shape, y_test.shape"
   ]
  },
  {
   "cell_type": "code",
   "execution_count": 7,
   "metadata": {},
   "outputs": [
    {
     "data": {
      "text/plain": [
       "(array([3066.,    0.,    0.,    0.,    0., 1299.,    0.,    0.,    0.,\n",
       "        1627.]),\n",
       " array([0. , 0.2, 0.4, 0.6, 0.8, 1. , 1.2, 1.4, 1.6, 1.8, 2. ]),\n",
       " <BarContainer object of 10 artists>)"
      ]
     },
     "execution_count": 7,
     "metadata": {},
     "output_type": "execute_result"
    },
    {
     "data": {
      "image/png": "[encoded data removed]",
      "text/plain": [
       "<Figure size 640x480 with 1 Axes>"
      ]
     },
     "metadata": {},
     "output_type": "display_data"
    }
   ],
   "source": [
    "plt.hist(y_train)"
   ]
  },
  {
   "cell_type": "code",
   "execution_count": 20,
   "metadata": {},
   "outputs": [
    {
     "name": "stderr",
     "output_type": "stream",
     "text": [
      "100%|██████████| Fitting SlidingEstimator : 71/71 [00:05<00:00,   12.32it/s]\n"
     ]
    },
    {
     "data": {
      "text/plain": [
       "<SlidingEstimator({'allow_2d': False,\n",
       " 'base_estimator': Pipeline(steps=[('standardscaler', StandardScaler()),\n",
       "                ('logisticregression',\n",
       "                 LogisticRegression(C=0.1, class_weight='balanced',\n",
       "                                    solver='liblinear'))]),\n",
       " 'n_jobs': -1,\n",
       " 'position': 0,\n",
       " 'scoring': 'accuracy',\n",
       " 'verbose': True}, fitted with 71 estimators>"
      ]
     },
     "execution_count": 20,
     "metadata": {},
     "output_type": "execute_result"
    }
   ],
   "source": [
    "clf = make_pipeline(StandardScaler(), LogisticRegression(solver=\"liblinear\",C=0.1,class_weight=\"balanced\"))\n",
    "\n",
    "time_decod = SlidingEstimator(clf, n_jobs=-1, scoring=\"accuracy\", verbose=True)\n",
    "# here we use cv=3 just for speed\n",
    "\n",
    "time_decod.fit(X_train, y_train)\n",
    "# scores = cross_val_multiscore(time_decod, X, y, cv=3, n_jobs=None)\n"
   ]
  },
  {
   "cell_type": "code",
   "execution_count": 21,
   "metadata": {},
   "outputs": [
    {
     "name": "stderr",
     "output_type": "stream",
     "text": [
      "100%|██████████| Transforming SlidingEstimator : 71/71 [00:02<00:00,   30.78it/s]\n"
     ]
    }
   ],
   "source": [
    "y_pred=time_decod.predict(X_test)"
   ]
  },
  {
   "cell_type": "code",
   "execution_count": 22,
   "metadata": {},
   "outputs": [],
   "source": [
    "#compute accuracy for each time point\n",
    "from sklearn.metrics import accuracy_score\n",
    "acc=[]\n",
    "kp=[]\n",
    "for i in range(y_pred.shape[-1]):\n",
    "    acc.append(accuracy_score(y_test, y_pred[:,i]))\n",
    "    kp.append(cohen_kappa_score(y_test, y_pred[:,i]))\n"
   ]
  },
  {
   "cell_type": "code",
   "execution_count": 30,
   "metadata": {},
   "outputs": [
    {
     "name": "stdout",
     "output_type": "stream",
     "text": [
      "              precision    recall  f1-score   support\n",
      "\n",
      "           0       0.52      0.60      0.56      1346\n",
      "           1       0.22      0.16      0.19       579\n",
      "           2       0.25      0.22      0.23       644\n",
      "\n",
      "    accuracy                           0.41      2569\n",
      "   macro avg       0.33      0.33      0.33      2569\n",
      "weighted avg       0.38      0.41      0.39      2569\n",
      "\n"
     ]
    }
   ],
   "source": [
    "\n",
    "\n",
    "from sklearn.metrics import classification_report\n",
    "\n",
    "\n",
    "print(classification_report(y_test, y_pred[:,0]))"
   ]
  },
  {
   "cell_type": "code",
   "execution_count": 23,
   "metadata": {},
   "outputs": [
    {
     "data": {
      "text/plain": [
       "[<matplotlib.lines.Line2D at 0x7fb9b84fc790>]"
      ]
     },
     "execution_count": 23,
     "metadata": {},
     "output_type": "execute_result"
    },
    {
     "data": {
      "image/png": "[encoded data removed]",
      "text/plain": [
       "<Figure size 640x480 with 1 Axes>"
      ]
     },
     "metadata": {},
     "output_type": "display_data"
    }
   ],
   "source": [
    "plt.plot(acc)\n",
    "plt.plot(kp)"
   ]
  },
  {
   "cell_type": "code",
   "execution_count": null,
   "metadata": {},
   "outputs": [],
   "source": [
    "plt.hist(y_train)"
   ]
  },
  {
   "cell_type": "code",
   "execution_count": 29,
   "metadata": {},
   "outputs": [],
   "source": [
    "clf = make_pipeline(\n",
    "    Scaler(concatenated_epochs.info),\n",
    "    Vectorizer(),\n",
    "    LogisticRegression(solver=\"liblinear\"),  # liblinear is faster than lbfgs\n",
    ")\n",
    "\n",
    "clf.fit(X_train, y_train)"
   ]
  },
  {
   "cell_type": "code",
   "execution_count": null,
   "metadata": {},
   "outputs": [],
   "source": []
  }
 ],
 "metadata": {
  "kernelspec": {
   "display_name": "deep",
   "language": "python",
   "name": "python3"
  },
  "language_info": {
   "codemirror_mode": {
    "name": "ipython",
    "version": 3
   },
   "file_extension": ".py",
   "mimetype": "text/x-python",
   "name": "python",
   "nbconvert_exporter": "python",
   "pygments_lexer": "ipython3",
   "version": "3.9.0"
  }
 },
 "nbformat": 4,
 "nbformat_minor": 2
}
