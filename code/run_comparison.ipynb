{
 "cells": [
  {
   "cell_type": "code",
   "execution_count": 1,
   "metadata": {},
   "outputs": [],
   "source": [
    "from collect_data import *\n",
    "from collect_metrics import *\n",
    "from tqdm import tqdm\n",
    "import matplotlib.pyplot as plt\n",
    "import pandas as pd"
   ]
  },
  {
   "cell_type": "code",
   "execution_count": 2,
   "metadata": {},
   "outputs": [
    {
     "name": "stdout",
     "output_type": "stream",
     "text": [
      "cuda:1\n"
     ]
    }
   ],
   "source": [
    "device = torch.device(\n",
    "    \"cuda:{}\".format(1) if torch.cuda.is_available() else \"cpu\"\n",
    ")\n",
    "print(device)"
   ]
  },
  {
   "cell_type": "code",
   "execution_count": 10,
   "metadata": {},
   "outputs": [
    {
     "name": "stdout",
     "output_type": "stream",
     "text": [
      "WAVE FILES DURATION:  {'lw1': 318.1481632653061, 'lw1_3': 53.072426303854876, 'lw1_2': 93.7512925170068, 'lw1_1': 75.44276643990929, 'lw1_0': 95.88167800453515, 'easy_money_7': 129.30312925170068, 'easy_money_6': 123.42730158730159, 'easy_money_4': 163.68920634920636, 'easy_money_5': 142.36866213151927, 'easy_money_3': 141.97519274376418, 'easy_money_0': 143.12875283446712, 'easy_money_2': 180.43360544217688, 'easy_money_1': 104.10834467120182, 'cable_spool_fort_4': 123.26390022675737, 'cable_spool_fort_5': 54.69605442176871, 'cable_spool_fort_3': 105.82820861678005, 'cable_spool_fort_2': 137.65614512471655, 'cable_spool_fort_1': 134.8726984126984, 'cable_spool_fort_0': 100.59777777777778, 'the_black_willow_9': 188.23668934240362, 'the_black_willow_8': 142.4142403628118, 'the_black_willow_7': 172.399410430839, 'the_black_willow_6': 128.21628117913832, 'the_black_willow_5': 81.94331065759637, 'the_black_willow_4': 110.45659863945578, 'the_black_willow_2': 125.23859410430839, 'the_black_willow_3': 131.8818140589569, 'the_black_willow_10': 189.4689342403628, 'the_black_willow_11': 119.1855328798186, 'the_black_willow_1': 149.3205442176871, 'the_black_willow_0': 135.09065759637187}\n",
      "WAVE FILES WITH\\ NUMBERS:  {'lw1': 0.0, 'cable_spool_fort': 1.0, 'easy_money': 2.0, 'the_black_willow': 3.0}\n",
      "DIMENSION_MEG_TENSOR_TRAIN:  torch.Size([11958, 208, 16, 26])\n",
      "DIMENSION_MEG_TENSOR_VALID:  torch.Size([1684, 208, 16, 26])\n",
      "DIMENSION_MEG_TENSOR_TEST:  torch.Size([3480, 208, 16, 26])\n"
     ]
    }
   ],
   "source": [
    "subjects_list = ['01', '02', '04', '05', '06', '07', '08', '09']\n",
    "\n",
    "stimuli_path = meg_path + '/stimuli/audio'\n",
    "wav_files_duration = {}\n",
    "\n",
    "for filename in os.listdir(stimuli_path):\n",
    "    if filename.endswith('.wav'): \n",
    "        file_path = os.path.join(stimuli_path, filename)\n",
    "        y, sr = librosa.load(file_path, sr=None)\n",
    "        duration = librosa.get_duration(y=y, sr=sr)\n",
    "        wav_files_duration[filename.rstrip('.wav')] = duration\n",
    "print('WAVE FILES DURATION: ',wav_files_duration)\n",
    "print('WAVE FILES WITH\\ NUMBERS: ',task)\n",
    "wav_list_without_numb = list(task.keys())\n",
    "\n",
    "\n",
    "megsp_path = os.path.join(meg_path, 'collect_data/megsp')\n",
    "megsp_list = os.listdir(megsp_path)\n",
    "\n",
    "select_subj = \"01\"\n",
    "megsp_list_session_0 = [f for f in megsp_list if f.startswith(select_subj) and f.split('_')[1] == '0']\n",
    "megsp_list_session_1 = [f for f in megsp_list if f.startswith(select_subj) and f.split('_')[1] == '1']\n",
    "\n",
    "meg_0_tensor_train, meg_0_tensor_valid, meg_0_tensor_test = get_splitted_tensor(megsp_list_session_0, megsp_path)\n",
    "meg_1_tensor_train, meg_1_tensor_valid, meg_1_tensor_test = get_splitted_tensor(megsp_list_session_1, megsp_path)\n",
    "meg_tensor_train = torch.cat((meg_0_tensor_train, meg_1_tensor_train), 0)\n",
    "meg_tensor_valid = torch.cat((meg_0_tensor_valid, meg_1_tensor_valid), 0)\n",
    "meg_tensor_test = torch.cat((meg_0_tensor_test, meg_1_tensor_test), 0)\n",
    "print('DIMENSION_MEG_TENSOR_TRAIN: ', meg_tensor_train.shape)\n",
    "print('DIMENSION_MEG_TENSOR_VALID: ', meg_tensor_valid.shape)\n",
    "print('DIMENSION_MEG_TENSOR_TEST: ', meg_tensor_test.shape)"
   ]
  },
  {
   "cell_type": "markdown",
   "metadata": {},
   "source": [
    "## Build 8 subjects prediction"
   ]
  },
  {
   "cell_type": "code",
   "execution_count": 27,
   "metadata": {},
   "outputs": [],
   "source": [
    "real_target = []\n",
    "for channel in range(num_channel):\n",
    "    y_test = meg_tensor_test[:, channel, :, :].reshape(meg_tensor_test.shape[0], -1)\n",
    "    real_target.append(y_test)\n"
   ]
  },
  {
   "cell_type": "code",
   "execution_count": 5,
   "metadata": {},
   "outputs": [
    {
     "name": "stderr",
     "output_type": "stream",
     "text": [
      "100%|██████████| 8/8 [00:22<00:00,  2.80s/it]\n"
     ]
    }
   ],
   "source": [
    "extr_path = meg_path + \"/collect_data\"\n",
    "subjects_metrics = {}\n",
    "real_target = torch.tensor(np.array(real_target))\n",
    "real_target = real_target.reshape(real_target.shape[0], real_target.shape[1], 16, 26)\n",
    "\n",
    "for repo in tqdm(os.listdir(extr_path)[3:-2]):\n",
    "    subject = repo[-2:]\n",
    "    subj_path = extr_path + '/' + repo + '/'\n",
    "    pred_meg_y = torch.load(os.path.join(subj_path, 'meg_prediction_ridge_'+subject+'.pt')) \n",
    "    pred_meg_y = pred_meg_y.reshape(pred_meg_y.shape[0], pred_meg_y.shape[1], 16, 26)\n",
    "    subjects_metrics['subject_'+subject] = bands_metrics(real_target, pred_meg_y, freq_bands)\n",
    "\n",
    "\n",
    "    "
   ]
  },
  {
   "cell_type": "code",
   "execution_count": 77,
   "metadata": {},
   "outputs": [
    {
     "data": {
      "text/plain": [
       "[0.3061909080220948,\n",
       " 0.44145745162324057,\n",
       " 0.27539691987618814,\n",
       " 0.36237241309282886,\n",
       " 0.3183814275249985,\n",
       " 0.3465182592566612,\n",
       " 0.33676515715564365,\n",
       " 0.2204388684950221,\n",
       " 0.3894062412343504,\n",
       " 0.31352018814633037,\n",
       " 0.2741557305515406,\n",
       " 0.3477541103102665,\n",
       " 0.3403122885543328,\n",
       " 0.3663358043352791,\n",
       " 0.31775974842182086,\n",
       " 0.39232701872509806,\n",
       " 0.3467208751070413,\n",
       " 0.41546655955461803,\n",
       " 0.39591564979883065,\n",
       " 0.3090489920649375,\n",
       " 0.3314689430068324,\n",
       " 0.3743493128518605,\n",
       " 0.2943309654927158,\n",
       " 0.4567890636102959,\n",
       " 0.497342938853068,\n",
       " 0.36123971291403223,\n",
       " 0.2999035235788277,\n",
       " 0.2833370617005994,\n",
       " 0.2682750966209606,\n",
       " 0.2714514665326673,\n",
       " 0.37163383884557427,\n",
       " 0.3495110702250258,\n",
       " 0.5498182430815316,\n",
       " 0.3764262280647693,\n",
       " 0.3224792179760548,\n",
       " 0.27145188642513507,\n",
       " 0.14654356182438166,\n",
       " 0.5064697693991242,\n",
       " 0.46145703792627385,\n",
       " 0.27051162637258586,\n",
       " 0.37235772761599867,\n",
       " 0.26423930552064806,\n",
       " 0.2577159605370036,\n",
       " 0.3048458962966638,\n",
       " 0.21608990213609292,\n",
       " 0.2908010553754648,\n",
       " 0.2155198756809861,\n",
       " 0.21407886006452953,\n",
       " 0.14206129836937195,\n",
       " 0.12924718502960997,\n",
       " 0.1901750498500594,\n",
       " 0.17419313076732063,\n",
       " 0.22144596389658536,\n",
       " 0.25742916039768193,\n",
       " 0.25838599846196003,\n",
       " 0.1666127219301169,\n",
       " 0.22751007736970763,\n",
       " 0.2378538076064901,\n",
       " 0.2934953555650594,\n",
       " 0.3115464765690449,\n",
       " 0.3465849554358775,\n",
       " 0.3306392866326301,\n",
       " 0.26055060833120114,\n",
       " 0.30900512448037104,\n",
       " 0.111054358271685,\n",
       " 0.3293330501231072,\n",
       " 0.3464293820687789,\n",
       " 0.19941523000779954,\n",
       " 0.18486051995772199,\n",
       " 0.19684417217341718,\n",
       " 0.21093523458329044,\n",
       " 0.2388862652399314,\n",
       " 0.25613913946309785,\n",
       " 0.22284884556136597,\n",
       " 0.31871910709239437,\n",
       " 0.11906554071516563,\n",
       " 0.2788373827708548,\n",
       " 0.2732036371042318,\n",
       " 0.3562345134521763,\n",
       " 0.31230145881577265,\n",
       " 0.41433781651678303,\n",
       " 0.39015084077442047,\n",
       " 0.44013238732478327,\n",
       " 0.41558369924935573,\n",
       " 0.30316772066229564,\n",
       " 0.40978044706778355,\n",
       " 0.44699187483575126,\n",
       " 0.4649273400071421,\n",
       " 0.3822171535162209,\n",
       " 0.4087319736056635,\n",
       " 0.4204387228042911,\n",
       " 0.4429006380459568,\n",
       " 0.4291762213668392,\n",
       " 0.2936345393183671,\n",
       " 0.3121310078919548,\n",
       " 0.3505307841505968,\n",
       " 0.3819873790797658,\n",
       " 0.2759962544128741,\n",
       " 0.19930097491323678,\n",
       " 0.24447847237714365,\n",
       " 0.1844383687961049,\n",
       " 0.3052401481789045,\n",
       " 0.2966105934996195,\n",
       " 0.27665946772245137,\n",
       " 0.2482034052974781,\n",
       " 0.21813240333241735,\n",
       " 0.30512887428824326,\n",
       " 0.3396679292908974,\n",
       " 0.20880798837081777,\n",
       " 0.18912657040686953,\n",
       " 0.14874819631122876,\n",
       " 0.15411743277810036,\n",
       " 0.228786104298966,\n",
       " 0.17073518666632026,\n",
       " 0.14235019267022853,\n",
       " 0.15847394868123624,\n",
       " 0.21548471773740824,\n",
       " 0.1582027970003546,\n",
       " 0.010648184791671659,\n",
       " 0.1025919515748408,\n",
       " 0.20618345082942194,\n",
       " 0.23574205289677627,\n",
       " 0.27736494707638654,\n",
       " 0.28049739340800833,\n",
       " 0.30575442739474246,\n",
       " 0.2681520430706265,\n",
       " 0.23038820696700463,\n",
       " 0.2400886616666625,\n",
       " 0.2167463044367116,\n",
       " 0.3325666120777037,\n",
       " 0.2860183864018794,\n",
       " 0.20239991650620154,\n",
       " 0.36357827425167527,\n",
       " 0.29064026136230775,\n",
       " 0.2051001007867993,\n",
       " 0.27662132965403746,\n",
       " 0.25197953591769134,\n",
       " 0.2115491142266998,\n",
       " 0.31606384659332504,\n",
       " 0.21016192859393618,\n",
       " 0.354119170020364,\n",
       " 0.3712497080582001,\n",
       " 0.30854734012122087,\n",
       " 0.47045108745842396,\n",
       " 0.4522486562439903,\n",
       " 0.260982696810087,\n",
       " 0.3679811790760515,\n",
       " 0.25385474712113343,\n",
       " 0.18391568541680603,\n",
       " 0.16174600286897706,\n",
       " 0.302361290892039,\n",
       " 0.23811304297784694,\n",
       " 0.24372030413119358,\n",
       " 0.12599042931535814,\n",
       " 0.1793870308260545,\n",
       " 0.29314820390592844,\n",
       " 0.08621352555807144,\n",
       " 0.12239351979379194,\n",
       " 0.2315309858689653,\n",
       " 0.20604033108614475,\n",
       " 0.18114247232566255,\n",
       " 0.3216481364029455,\n",
       " 0.3499107745080773,\n",
       " 0.30849041017002665,\n",
       " 0.38488202829840124,\n",
       " 0.3199243748434265,\n",
       " 0.3675849503657678,\n",
       " 0.3044186707223778,\n",
       " 0.41084230650619563,\n",
       " 0.46317946644044033,\n",
       " 0.445681218262333,\n",
       " 0.4465136489837698,\n",
       " 0.483215671759166,\n",
       " 0.30367252161659025,\n",
       " 0.3745582958345107,\n",
       " 0.32185894004380916,\n",
       " 0.23446698025238558,\n",
       " 0.1750222225302054,\n",
       " 0.23379492561961956,\n",
       " 0.15313324437427578,\n",
       " 0.20556663233052386,\n",
       " 0.4297000380757742,\n",
       " 0.33818004847996663,\n",
       " 0.361193386765049,\n",
       " 0.39180602408433224,\n",
       " 0.33196696652194624,\n",
       " 0.4803693949724859,\n",
       " 0.43112906265306356,\n",
       " 0.4532766617359697,\n",
       " 0.3070830880668458,\n",
       " 0.37635710978414777,\n",
       " 0.22816488409413307,\n",
       " 0.314002030364125,\n",
       " 0.3211608851004355,\n",
       " 0.3057774032654301,\n",
       " 0.3040487706916903,\n",
       " 0.322044713922479,\n",
       " 0.39162320070044254,\n",
       " 0.1606753340031556,\n",
       " 0.35732572974442967,\n",
       " 0.38344864759108455,\n",
       " 0.24988411608847463,\n",
       " 0.48815414052677497,\n",
       " 0.44268093279544507,\n",
       " 0.35954022137755626,\n",
       " 0.27163334307382553,\n",
       " 0.25995670804873916,\n",
       " 0.24655940039003552]"
      ]
     },
     "execution_count": 77,
     "metadata": {},
     "output_type": "execute_result"
    }
   ],
   "source": [
    "[entry['pearson_corr'] for entry in subjects_metrics['subject_01']['beta']]\n"
   ]
  },
  {
   "cell_type": "code",
   "execution_count": 7,
   "metadata": {},
   "outputs": [],
   "source": [
    "data_frame = []\n",
    "for subject, metrics in subjects_metrics.items():\n",
    "    for band, channels in metrics.items():\n",
    "        for channel_data in channels:\n",
    "            row = {'Subject': subject, 'Band': band, 'Channel': channel_data['channel']}\n",
    "            row.update(channel_data)\n",
    "            del row['channel']  \n",
    "            data_frame.append(row)\n",
    "\n",
    "df = pd.DataFrame(data_frame)"
   ]
  },
  {
   "cell_type": "code",
   "execution_count": 8,
   "metadata": {},
   "outputs": [
    {
     "data": {
      "text/html": [
       "<div>\n",
       "<style scoped>\n",
       "    .dataframe tbody tr th:only-of-type {\n",
       "        vertical-align: middle;\n",
       "    }\n",
       "\n",
       "    .dataframe tbody tr th {\n",
       "        vertical-align: top;\n",
       "    }\n",
       "\n",
       "    .dataframe thead th {\n",
       "        text-align: right;\n",
       "    }\n",
       "</style>\n",
       "<table border=\"1\" class=\"dataframe\">\n",
       "  <thead>\n",
       "    <tr style=\"text-align: right;\">\n",
       "      <th></th>\n",
       "      <th>Subject</th>\n",
       "      <th>Band</th>\n",
       "      <th>Channel</th>\n",
       "      <th>pearson_corr</th>\n",
       "      <th>modified_r2</th>\n",
       "      <th>mse</th>\n",
       "      <th>mae</th>\n",
       "      <th>mae_norm</th>\n",
       "    </tr>\n",
       "  </thead>\n",
       "  <tbody>\n",
       "    <tr>\n",
       "      <th>0</th>\n",
       "      <td>subject_01</td>\n",
       "      <td>complete</td>\n",
       "      <td>0</td>\n",
       "      <td>0.573327</td>\n",
       "      <td>0.328704</td>\n",
       "      <td>59.972930</td>\n",
       "      <td>5.903509</td>\n",
       "      <td>0.283199</td>\n",
       "    </tr>\n",
       "    <tr>\n",
       "      <th>1</th>\n",
       "      <td>subject_01</td>\n",
       "      <td>complete</td>\n",
       "      <td>1</td>\n",
       "      <td>0.596687</td>\n",
       "      <td>0.356035</td>\n",
       "      <td>63.277840</td>\n",
       "      <td>5.902615</td>\n",
       "      <td>0.279300</td>\n",
       "    </tr>\n",
       "    <tr>\n",
       "      <th>2</th>\n",
       "      <td>subject_01</td>\n",
       "      <td>complete</td>\n",
       "      <td>2</td>\n",
       "      <td>0.536002</td>\n",
       "      <td>0.287298</td>\n",
       "      <td>61.647577</td>\n",
       "      <td>6.055604</td>\n",
       "      <td>0.294957</td>\n",
       "    </tr>\n",
       "    <tr>\n",
       "      <th>3</th>\n",
       "      <td>subject_01</td>\n",
       "      <td>complete</td>\n",
       "      <td>3</td>\n",
       "      <td>0.570024</td>\n",
       "      <td>0.324927</td>\n",
       "      <td>59.351990</td>\n",
       "      <td>6.077859</td>\n",
       "      <td>0.259945</td>\n",
       "    </tr>\n",
       "    <tr>\n",
       "      <th>4</th>\n",
       "      <td>subject_01</td>\n",
       "      <td>complete</td>\n",
       "      <td>4</td>\n",
       "      <td>0.532947</td>\n",
       "      <td>0.284033</td>\n",
       "      <td>58.695783</td>\n",
       "      <td>5.895832</td>\n",
       "      <td>0.280107</td>\n",
       "    </tr>\n",
       "    <tr>\n",
       "      <th>...</th>\n",
       "      <td>...</td>\n",
       "      <td>...</td>\n",
       "      <td>...</td>\n",
       "      <td>...</td>\n",
       "      <td>...</td>\n",
       "      <td>...</td>\n",
       "      <td>...</td>\n",
       "      <td>...</td>\n",
       "    </tr>\n",
       "    <tr>\n",
       "      <th>8315</th>\n",
       "      <td>subject_09</td>\n",
       "      <td>beta</td>\n",
       "      <td>203</td>\n",
       "      <td>0.435552</td>\n",
       "      <td>0.189706</td>\n",
       "      <td>74.364649</td>\n",
       "      <td>6.421975</td>\n",
       "      <td>0.259937</td>\n",
       "    </tr>\n",
       "    <tr>\n",
       "      <th>8316</th>\n",
       "      <td>subject_09</td>\n",
       "      <td>beta</td>\n",
       "      <td>204</td>\n",
       "      <td>0.276860</td>\n",
       "      <td>0.076651</td>\n",
       "      <td>58.514737</td>\n",
       "      <td>5.938117</td>\n",
       "      <td>0.254586</td>\n",
       "    </tr>\n",
       "    <tr>\n",
       "      <th>8317</th>\n",
       "      <td>subject_09</td>\n",
       "      <td>beta</td>\n",
       "      <td>205</td>\n",
       "      <td>0.155137</td>\n",
       "      <td>0.024068</td>\n",
       "      <td>65.381527</td>\n",
       "      <td>6.249613</td>\n",
       "      <td>0.285588</td>\n",
       "    </tr>\n",
       "    <tr>\n",
       "      <th>8318</th>\n",
       "      <td>subject_09</td>\n",
       "      <td>beta</td>\n",
       "      <td>206</td>\n",
       "      <td>0.186788</td>\n",
       "      <td>0.034890</td>\n",
       "      <td>58.731724</td>\n",
       "      <td>5.917459</td>\n",
       "      <td>0.266956</td>\n",
       "    </tr>\n",
       "    <tr>\n",
       "      <th>8319</th>\n",
       "      <td>subject_09</td>\n",
       "      <td>beta</td>\n",
       "      <td>207</td>\n",
       "      <td>0.232509</td>\n",
       "      <td>0.054060</td>\n",
       "      <td>52.562462</td>\n",
       "      <td>5.587396</td>\n",
       "      <td>0.243709</td>\n",
       "    </tr>\n",
       "  </tbody>\n",
       "</table>\n",
       "<p>8320 rows × 8 columns</p>\n",
       "</div>"
      ],
      "text/plain": [
       "         Subject      Band  Channel  pearson_corr  modified_r2        mse  \\\n",
       "0     subject_01  complete        0      0.573327     0.328704  59.972930   \n",
       "1     subject_01  complete        1      0.596687     0.356035  63.277840   \n",
       "2     subject_01  complete        2      0.536002     0.287298  61.647577   \n",
       "3     subject_01  complete        3      0.570024     0.324927  59.351990   \n",
       "4     subject_01  complete        4      0.532947     0.284033  58.695783   \n",
       "...          ...       ...      ...           ...          ...        ...   \n",
       "8315  subject_09      beta      203      0.435552     0.189706  74.364649   \n",
       "8316  subject_09      beta      204      0.276860     0.076651  58.514737   \n",
       "8317  subject_09      beta      205      0.155137     0.024068  65.381527   \n",
       "8318  subject_09      beta      206      0.186788     0.034890  58.731724   \n",
       "8319  subject_09      beta      207      0.232509     0.054060  52.562462   \n",
       "\n",
       "           mae  mae_norm  \n",
       "0     5.903509  0.283199  \n",
       "1     5.902615  0.279300  \n",
       "2     6.055604  0.294957  \n",
       "3     6.077859  0.259945  \n",
       "4     5.895832  0.280107  \n",
       "...        ...       ...  \n",
       "8315  6.421975  0.259937  \n",
       "8316  5.938117  0.254586  \n",
       "8317  6.249613  0.285588  \n",
       "8318  5.917459  0.266956  \n",
       "8319  5.587396  0.243709  \n",
       "\n",
       "[8320 rows x 8 columns]"
      ]
     },
     "execution_count": 8,
     "metadata": {},
     "output_type": "execute_result"
    }
   ],
   "source": [
    "df"
   ]
  },
  {
   "cell_type": "code",
   "execution_count": 55,
   "metadata": {},
   "outputs": [
    {
     "data": {
      "text/plain": [
       "0      0.573327\n",
       "1      0.596687\n",
       "2      0.536002\n",
       "3      0.570024\n",
       "4      0.532947\n",
       "         ...   \n",
       "203    0.596846\n",
       "204    0.562820\n",
       "205    0.538599\n",
       "206    0.530140\n",
       "207    0.532928\n",
       "Name: pearson_corr, Length: 208, dtype: float64"
      ]
     },
     "execution_count": 55,
     "metadata": {},
     "output_type": "execute_result"
    }
   ],
   "source": [
    "df[(df.Subject == \"subject_01\") & (df.Band == \"complete\")][\"pearson_corr\"]"
   ]
  },
  {
   "cell_type": "code",
   "execution_count": 11,
   "metadata": {},
   "outputs": [],
   "source": [
    "# media rispetto a tutti i soggetti\n",
    "\n",
    "def get_mean_from_subjects_metrics(column, band):\n",
    "\n",
    "    values_to_mean = []\n",
    "    for subject in subjects_list: \n",
    "        get_values = torch.Tensor([entry[column] for entry in subjects_metrics['subject_'+subject][band]])\n",
    "        values_to_mean.append(get_values)\n",
    "    mean_channels = torch.mean(torch.stack(values_to_mean), dim=0)\n",
    "    return mean_channels\n",
    "        \n"
   ]
  },
  {
   "cell_type": "code",
   "execution_count": 78,
   "metadata": {},
   "outputs": [],
   "source": [
    "mean_r2_complete_subj = get_mean_from_subjects_metrics(\"pearson_corr\", \"complete\")"
   ]
  },
  {
   "cell_type": "code",
   "execution_count": 9,
   "metadata": {},
   "outputs": [
    {
     "name": "stdout",
     "output_type": "stream",
     "text": [
      "Reading 0 ... 395999  =      0.000 ...   395.999 secs...\n"
     ]
    },
    {
     "name": "stderr",
     "output_type": "stream",
     "text": [
      "/home/matteoc/spect-to-meg/code/collect_data.py:49: RuntimeWarning: The unit for channel(s) MISC 001, MISC 002, MISC 003, MISC 004, MISC 005, MISC 006, MISC 007, MISC 008, MISC 009, MISC 010, MISC 011, MISC 012, MISC 013, MISC 014, MISC 015, MISC 016, MISC 017, MISC 018, MISC 019, MISC 020, MISC 021, MISC 022, MISC 023, MISC 024, MISC 025, MISC 026, MISC 027, MISC 028, MISC 029, MISC 030, MISC 031, MISC 032 has changed from V to NA.\n",
      "  raw = mne_bids.read_raw_bids(bids_path, verbose=False)\n"
     ]
    },
    {
     "name": "stdout",
     "output_type": "stream",
     "text": [
      "Filtering raw data in 1 contiguous segment\n",
      "Setting up band-pass filter from 0.5 - 30 Hz\n",
      "\n",
      "FIR filter parameters\n",
      "---------------------\n",
      "Designing a one-pass, zero-phase, non-causal bandpass filter:\n",
      "- Windowed time-domain design (firwin) method\n",
      "- Hamming window with 0.0194 passband ripple and 53 dB stopband attenuation\n",
      "- Lower passband edge: 0.50\n",
      "- Lower transition bandwidth: 0.50 Hz (-6 dB cutoff frequency: 0.25 Hz)\n",
      "- Upper passband edge: 30.00 Hz\n",
      "- Upper transition bandwidth: 7.50 Hz (-6 dB cutoff frequency: 33.75 Hz)\n",
      "- Filter length: 6601 samples (6.601 s)\n",
      "\n",
      "NOTE: pick_types() is a legacy function. New code should use inst.pick(...).\n"
     ]
    },
    {
     "data": {
      "image/png": "[encoded data removed]",
      "text/plain": [
       "<Figure size 640x640 with 1 Axes>"
      ]
     },
     "metadata": {},
     "output_type": "display_data"
    },
    {
     "name": "stdout",
     "output_type": "stream",
     "text": [
      "Figure(640x640)\n"
     ]
    }
   ],
   "source": [
    "raw = get_bids_raw(meg_path, patient[0], session[0], '0')\n",
    "layout_from_raw = mne.channels.find_layout(raw.info, ch_type='mag')\n",
    "print(layout_from_raw.plot())"
   ]
  },
  {
   "cell_type": "markdown",
   "metadata": {},
   "source": [
    "## Ceiling (doesn't work)"
   ]
  },
  {
   "cell_type": "code",
   "execution_count": 5,
   "metadata": {},
   "outputs": [],
   "source": [
    "import itertools\n",
    "combinations = itertools.combinations(subjects_list, 2)"
   ]
  },
  {
   "cell_type": "code",
   "execution_count": 6,
   "metadata": {},
   "outputs": [],
   "source": [
    "def get_ceiling(start_band, end_band):\n",
    "    \n",
    "    combinat_list = []\n",
    "    for combo in tqdm(combinations):\n",
    "        subj_i = combo[0]\n",
    "        subj_j = combo[1]\n",
    "\n",
    "        megsp_list_session_0_i = [f for f in megsp_list if f.startswith(subj_i) and f.split('_')[1] == '0']\n",
    "        megsp_list_session_1_i = [f for f in megsp_list if f.startswith(subj_i) and f.split('_')[1] == '1']\n",
    "        meg_0_tensor_train_i, _, _ = get_splitted_tensor(megsp_list_session_0_i, megsp_path)\n",
    "        meg_1_tensor_train_i, _, _ = get_splitted_tensor(megsp_list_session_1_i, megsp_path)\n",
    "        meg_tensor_train_i = torch.cat((meg_0_tensor_train_i, meg_1_tensor_train_i), 0)\n",
    "        meg_tensor_train_i = meg_tensor_train_i[:, :, start_band:end_band, :]\n",
    "        \n",
    "        megsp_list_session_0_j = [f for f in megsp_list if f.startswith(subj_j) and f.split('_')[1] == '0']\n",
    "        megsp_list_session_1_j = [f for f in megsp_list if f.startswith(subj_j) and f.split('_')[1] == '1']\n",
    "        meg_0_tensor_train_j, _, _ = get_splitted_tensor(megsp_list_session_0_j, megsp_path)\n",
    "        meg_1_tensor_train_j, _, _ = get_splitted_tensor(megsp_list_session_1_j, megsp_path)\n",
    "        meg_tensor_train_j = torch.cat((meg_0_tensor_train_j, meg_1_tensor_train_j), 0)\n",
    "        meg_tensor_train_j = meg_tensor_train_j[:, :, start_band:end_band, :]\n",
    "\n",
    "        r2_channels = []\n",
    "        for i in range(num_channel):\n",
    "            pearson_corr = np.corrcoef(meg_tensor_train_i[:,i,:].reshape(-1), meg_tensor_train_j[:,i,:].reshape(-1))[0,1]\n",
    "            modified_r2 = np.abs(pearson_corr) * pearson_corr\n",
    "            r2_channels.append(modified_r2)\n",
    "\n",
    "        combinat_list.append(r2_channels)\n",
    "    \n",
    "    return combinat_list\n"
   ]
  },
  {
   "cell_type": "code",
   "execution_count": 7,
   "metadata": {},
   "outputs": [
    {
     "name": "stderr",
     "output_type": "stream",
     "text": [
      "28it [09:21, 20.07s/it]\n"
     ]
    }
   ],
   "source": [
    "combination_beta = get_ceiling(7, 16)"
   ]
  },
  {
   "cell_type": "code",
   "execution_count": 8,
   "metadata": {},
   "outputs": [],
   "source": [
    "for i in range(len(combination_beta)):\n",
    "    combination_beta[i] = torch.Tensor(combination_beta[i])\n",
    "comb_torch = torch.stack(combination_beta)\n",
    "mean_vector = torch.mean(comb_torch, dim=0)\n",
    "\n"
   ]
  },
  {
   "cell_type": "code",
   "execution_count": 11,
   "metadata": {},
   "outputs": [
    {
     "data": {
      "text/plain": [
       "tensor([0.0413, 0.0452, 0.0372, 0.0508, 0.0398, 0.0444, 0.0559, 0.0447, 0.0517,\n",
       "        0.0376, 0.0339, 0.0374, 0.0426, 0.0527, 0.0438, 0.0398, 0.0508, 0.0495,\n",
       "        0.0419, 0.0524, 0.0415, 0.0397, 0.0513, 0.0450, 0.0551, 0.0557, 0.0486,\n",
       "        0.0461, 0.0446, 0.0463, 0.0502, 0.0488, 0.0362, 0.0460, 0.0457, 0.0546,\n",
       "        0.0575, 0.0414, 0.0536, 0.0497, 0.0581, 0.0698, 0.0549, 0.0427, 0.0534,\n",
       "        0.0485, 0.0502, 0.0562, 0.0457, 0.0425, 0.0502, 0.0421, 0.0353, 0.0543,\n",
       "        0.0489, 0.0425, 0.0433, 0.0413, 0.0473, 0.0582, 0.0499, 0.0464, 0.0460,\n",
       "        0.0533, 0.0404, 0.0410, 0.0346, 0.0393, 0.0465, 0.0569, 0.0386, 0.0680,\n",
       "        0.0573, 0.0520, 0.0479, 0.0413, 0.0426, 0.0541, 0.0311, 0.0369, 0.0594,\n",
       "        0.0547, 0.0463, 0.0554, 0.0479, 0.0615, 0.0632, 0.0523, 0.0541, 0.0514,\n",
       "        0.0542, 0.0563, 0.0528, 0.0601, 0.0458, 0.0571, 0.0604, 0.0422, 0.0404,\n",
       "        0.0376, 0.0403, 0.0505, 0.0488, 0.0453, 0.0473, 0.0555, 0.0695, 0.0493,\n",
       "        0.0509, 0.0523, 0.0572, 0.0550, 0.0443, 0.0436, 0.0569, 0.0418, 0.0469,\n",
       "        0.0394, 0.0390, 0.0494, 0.0572, 0.0473, 0.0499, 0.0458, 0.0514, 0.0463,\n",
       "        0.0472, 0.0446, 0.0494, 0.0553, 0.0365, 0.0389, 0.0452, 0.0503, 0.0463,\n",
       "        0.0476, 0.0450, 0.0422, 0.0513, 0.0474, 0.0485, 0.0371, 0.0376, 0.0465,\n",
       "        0.0397, 0.0534, 0.0514, 0.0367, 0.0483, 0.0416, 0.0447, 0.0370, 0.0408,\n",
       "        0.0361, 0.0363, 0.0550, 0.0549, 0.0496, 0.0433, 0.0371, 0.0367, 0.0353,\n",
       "        0.0402, 0.0385, 0.0343, 0.0352, 0.0429, 0.0485, 0.0457, 0.0441, 0.0410,\n",
       "        0.0488, 0.0439, 0.0362, 0.0372, 0.0444, 0.0391, 0.0436, 0.0383, 0.0458,\n",
       "        0.0446, 0.0407, 0.0351, 0.0341, 0.0325, 0.0388, 0.0332, 0.0416, 0.0363,\n",
       "        0.0355, 0.0384, 0.0447, 0.0413, 0.0530, 0.0309, 0.0372, 0.0309, 0.0429,\n",
       "        0.0342, 0.0344, 0.0302, 0.0312, 0.0379, 0.0426, 0.0408, 0.0445, 0.0490,\n",
       "        0.0465])"
      ]
     },
     "execution_count": 11,
     "metadata": {},
     "output_type": "execute_result"
    }
   ],
   "source": [
    "# CEILING VALUES OF DELTA\n",
    "\n",
    "mean_vector"
   ]
  },
  {
   "cell_type": "code",
   "execution_count": 9,
   "metadata": {},
   "outputs": [
    {
     "data": {
      "text/plain": [
       "tensor([0.0004, 0.0003, 0.0002, 0.0002, 0.0002, 0.0002, 0.0004, 0.0003, 0.0004,\n",
       "        0.0003, 0.0003, 0.0003, 0.0003, 0.0004, 0.0003, 0.0003, 0.0008, 0.0003,\n",
       "        0.0002, 0.0004, 0.0003, 0.0002, 0.0003, 0.0005, 0.0008, 0.0008, 0.0007,\n",
       "        0.0009, 0.0014, 0.0007, 0.0004, 0.0006, 0.0004, 0.0002, 0.0003, 0.0006,\n",
       "        0.0012, 0.0007, 0.0005, 0.0009, 0.0006, 0.0006, 0.0006, 0.0007, 0.0005,\n",
       "        0.0005, 0.0007, 0.0007, 0.0011, 0.0006, 0.0008, 0.0009, 0.0005, 0.0007,\n",
       "        0.0010, 0.0006, 0.0006, 0.0013, 0.0010, 0.0014, 0.0009, 0.0013, 0.0011,\n",
       "        0.0005, 0.0006, 0.0006, 0.0115, 0.0003, 0.0003, 0.0007, 0.0007, 0.0014,\n",
       "        0.0008, 0.0011, 0.0010, 0.0008, 0.0009, 0.0010, 0.0065, 0.0005, 0.0005,\n",
       "        0.0005, 0.0009, 0.0009, 0.0008, 0.0010, 0.0027, 0.0013, 0.0010, 0.0010,\n",
       "        0.0007, 0.0012, 0.0008, 0.0006, 0.0005, 0.0005, 0.0010, 0.0006, 0.0005,\n",
       "        0.0006, 0.0008, 0.0061, 0.0009, 0.0014, 0.0008, 0.0011, 0.0004, 0.0006,\n",
       "        0.0008, 0.0008, 0.0010, 0.0010, 0.0009, 0.0011, 0.0008, 0.0013, 0.0013,\n",
       "        0.0006, 0.0005, 0.0007, 0.0013, 0.0007, 0.0008, 0.0011, 0.0008, 0.0013,\n",
       "        0.0010, 0.0007, 0.0017, 0.0012, 0.0006, 0.0006, 0.0005, 0.0008, 0.0008,\n",
       "        0.0008, 0.0006, 0.0005, 0.0010, 0.0009, 0.0012, 0.0006, 0.0006, 0.0012,\n",
       "        0.0012, 0.0005, 0.0010, 0.0012, 0.0006, 0.0014, 0.0008, 0.0004, 0.0007,\n",
       "        0.0010, 0.0006, 0.0016, 0.0010, 0.0012, 0.0009, 0.0012, 0.0002, 0.0004,\n",
       "        0.0003, 0.0004, 0.0002, 0.0004, 0.0012, 0.0010, 0.0004, 0.0004, 0.0003,\n",
       "        0.0005, 0.0005, 0.0007, 0.0004, 0.0006, 0.0002, 0.0003, 0.0004, 0.0004,\n",
       "        0.0006, 0.0005, 0.0012, 0.0003, 0.0003, 0.0003, 0.0003, 0.0004, 0.0007,\n",
       "        0.0005, 0.0007, 0.0004, 0.0004, 0.0005, 0.0005, 0.0003, 0.0003, 0.0003,\n",
       "        0.0003, 0.0003, 0.0003, 0.0005, 0.0005, 0.0004, 0.0003, 0.0004, 0.0003,\n",
       "        0.0012])"
      ]
     },
     "execution_count": 9,
     "metadata": {},
     "output_type": "execute_result"
    }
   ],
   "source": [
    "# CEILING VALUES OF THETA\n",
    "\n",
    "mean_vector"
   ]
  },
  {
   "cell_type": "code",
   "execution_count": 9,
   "metadata": {},
   "outputs": [
    {
     "data": {
      "text/plain": [
       "tensor([3.5400e-04, 3.8109e-04, 3.4806e-04, 4.1767e-04, 4.7861e-04, 4.4342e-04,\n",
       "        1.9671e-04, 1.9294e-04, 1.2458e-04, 4.3056e-04, 4.2461e-04, 3.7553e-04,\n",
       "        2.7467e-04, 8.0964e-04, 5.2956e-04, 7.6261e-04, 2.1343e-04, 1.9762e-04,\n",
       "        3.0271e-04, 2.4648e-04, 3.0100e-04, 2.1733e-04, 5.3699e-04, 2.3625e-04,\n",
       "        3.7020e-04, 3.9959e-04, 4.4329e-04, 3.1413e-04, 6.0209e-04, 1.5981e-04,\n",
       "        1.7789e-04, 2.3475e-04, 5.7972e-04, 2.9182e-04, 1.7391e-04, 1.9385e-04,\n",
       "        7.8224e-04, 2.4050e-04, 2.1489e-04, 3.0110e-04, 4.3481e-04, 3.5928e-04,\n",
       "        2.8380e-04, 2.5478e-04, 1.9828e-04, 2.0066e-04, 4.8933e-04, 3.9772e-04,\n",
       "        5.1752e-04, 3.3242e-04, 2.7633e-04, 2.8546e-04, 5.1600e-04, 6.1766e-05,\n",
       "        3.0087e-04, 2.0089e-04, 8.6408e-05, 6.7532e-04, 7.5861e-04, 1.2498e-03,\n",
       "        6.2976e-04, 7.8933e-04, 3.9936e-04, 4.9388e-04, 3.3330e-04, 4.0060e-04,\n",
       "        8.7449e-03, 3.2427e-04, 4.0385e-04, 1.1128e-04, 3.7304e-04, 1.2769e-03,\n",
       "        1.8964e-04, 8.2328e-04, 6.1963e-04, 5.1517e-04, 2.1258e-04, 8.6296e-04,\n",
       "        4.9202e-03, 2.8105e-04, 2.7214e-04, 2.2359e-04, 2.5336e-04, 2.1325e-04,\n",
       "        2.1682e-04, 6.9780e-04, 5.2990e-03, 4.6017e-04, 4.9985e-04, 5.9791e-04,\n",
       "        1.6134e-04, 7.5964e-04, 5.5496e-04, 2.6421e-04, 1.9402e-04, 1.7918e-04,\n",
       "        6.5284e-04, 1.6457e-04, 2.6063e-04, 4.7058e-04, 3.6047e-04, 4.1354e-03,\n",
       "        1.5339e-04, 3.1853e-04, 2.1312e-04, 9.7074e-04, 1.7799e-04, 3.2488e-04,\n",
       "        3.6498e-04, 6.0264e-04, 7.3572e-04, 6.5174e-04, 2.3181e-04, 4.1102e-04,\n",
       "        6.6789e-05, 2.5531e-04, 2.0099e-04, 2.4419e-04, 3.9633e-04, 1.9135e-04,\n",
       "        1.1427e-03, 4.1125e-04, 7.2084e-04, 5.7309e-04, 2.5967e-04, 9.9381e-04,\n",
       "        6.3391e-04, 4.2265e-04, 1.1570e-03, 1.0894e-03, 4.7220e-04, 2.1236e-04,\n",
       "        2.4390e-04, 2.1944e-04, 1.8516e-04, 3.1440e-04, 4.1509e-04, 2.6781e-04,\n",
       "        4.2404e-04, 3.9456e-04, 4.2214e-04, 5.9456e-04, 3.2230e-04, 8.4793e-04,\n",
       "        3.4950e-04, 2.5231e-04, 3.5272e-04, 4.2300e-04, 6.5324e-04, 2.6310e-04,\n",
       "        7.4429e-04, 4.9753e-04, 5.1966e-04, 9.3694e-04, 3.9093e-04, 9.8243e-04,\n",
       "        8.5340e-04, 9.9663e-04, 4.0731e-04, 9.4317e-04, 4.7883e-04, 8.6353e-04,\n",
       "        2.3576e-04, 8.4468e-04, 9.3078e-04, 6.8732e-04, 2.3603e-04, 4.0621e-04,\n",
       "        5.7819e-04, 7.8832e-04, 8.7081e-04, 7.3534e-04, 6.3029e-04, 3.0479e-04,\n",
       "        6.2038e-04, 8.0018e-04, 7.4264e-04, 5.4785e-04, 4.3528e-04, 8.2149e-04,\n",
       "        9.5605e-05, 6.2240e-04, 2.3044e-03, 8.8984e-04, 8.9784e-04, 7.6773e-04,\n",
       "        1.0865e-03, 6.2006e-04, 3.6317e-04, 4.5479e-04, 2.0673e-04, 4.4124e-04,\n",
       "        6.4123e-04, 7.0534e-04, 9.5702e-04, 8.7162e-04, 1.0939e-03, 5.3523e-04,\n",
       "        9.6451e-04, 9.0427e-04, 9.5050e-04, 8.4638e-04, 7.6037e-04, 3.0289e-04,\n",
       "        6.7018e-04, 5.3035e-04, 6.1035e-04, 9.7360e-04])"
      ]
     },
     "execution_count": 9,
     "metadata": {},
     "output_type": "execute_result"
    }
   ],
   "source": [
    "# CEILING VALUES OF ALPHA\n",
    "\n",
    "mean_vector"
   ]
  },
  {
   "cell_type": "code",
   "execution_count": 9,
   "metadata": {},
   "outputs": [
    {
     "data": {
      "text/plain": [
       "tensor([0.0049, 0.0041, 0.0038, 0.0034, 0.0038, 0.0041, 0.0012, 0.0028, 0.0014,\n",
       "        0.0035, 0.0045, 0.0029, 0.0022, 0.0055, 0.0051, 0.0062, 0.0023, 0.0020,\n",
       "        0.0021, 0.0017, 0.0029, 0.0020, 0.0042, 0.0020, 0.0011, 0.0009, 0.0021,\n",
       "        0.0020, 0.0030, 0.0016, 0.0015, 0.0013, 0.0098, 0.0030, 0.0021, 0.0011,\n",
       "        0.0027, 0.0032, 0.0017, 0.0013, 0.0010, 0.0012, 0.0013, 0.0019, 0.0009,\n",
       "        0.0012, 0.0015, 0.0014, 0.0046, 0.0065, 0.0014, 0.0036, 0.0126, 0.0017,\n",
       "        0.0060, 0.0015, 0.0037, 0.0090, 0.0038, 0.0029, 0.0050, 0.0033, 0.0027,\n",
       "        0.0056, 0.0086, 0.0138, 0.0364, 0.0035, 0.0043, 0.0008, 0.0044, 0.0022,\n",
       "        0.0019, 0.0022, 0.0024, 0.0040, 0.0044, 0.0023, 0.0130, 0.0064, 0.0017,\n",
       "        0.0010, 0.0020, 0.0030, 0.0045, 0.0012, 0.0079, 0.0032, 0.0019, 0.0021,\n",
       "        0.0014, 0.0028, 0.0015, 0.0014, 0.0016, 0.0010, 0.0019, 0.0078, 0.0025,\n",
       "        0.0069, 0.0060, 0.0042, 0.0013, 0.0065, 0.0032, 0.0031, 0.0011, 0.0014,\n",
       "        0.0013, 0.0015, 0.0013, 0.0014, 0.0058, 0.0036, 0.0059, 0.0078, 0.0075,\n",
       "        0.0058, 0.0133, 0.0045, 0.0025, 0.0033, 0.0029, 0.0029, 0.0024, 0.0099,\n",
       "        0.0056, 0.0030, 0.0112, 0.0033, 0.0088, 0.0045, 0.0039, 0.0034, 0.0015,\n",
       "        0.0095, 0.0081, 0.0047, 0.0100, 0.0079, 0.0067, 0.0125, 0.0067, 0.0050,\n",
       "        0.0082, 0.0025, 0.0066, 0.0144, 0.0057, 0.0092, 0.0068, 0.0064, 0.0120,\n",
       "        0.0175, 0.0081, 0.0110, 0.0088, 0.0038, 0.0065, 0.0137, 0.0131, 0.0104,\n",
       "        0.0072, 0.0132, 0.0133, 0.0121, 0.0093, 0.0046, 0.0100, 0.0124, 0.0124,\n",
       "        0.0116, 0.0083, 0.0066, 0.0069, 0.0108, 0.0120, 0.0096, 0.0113, 0.0113,\n",
       "        0.0070, 0.0116, 0.0262, 0.0103, 0.0077, 0.0089, 0.0103, 0.0090, 0.0073,\n",
       "        0.0093, 0.0050, 0.0065, 0.0104, 0.0079, 0.0130, 0.0116, 0.0122, 0.0060,\n",
       "        0.0104, 0.0085, 0.0150, 0.0149, 0.0138, 0.0122, 0.0121, 0.0100, 0.0106,\n",
       "        0.0111])"
      ]
     },
     "execution_count": 9,
     "metadata": {},
     "output_type": "execute_result"
    }
   ],
   "source": [
    "# CEILING VALUES OF BETA\n",
    "\n",
    "mean_vector"
   ]
  },
  {
   "cell_type": "code",
   "execution_count": 9,
   "metadata": {},
   "outputs": [
    {
     "data": {
      "text/plain": [
       "tensor([0.0427, 0.0378, 0.0272, 0.0347, 0.0300, 0.0393, 0.0429, 0.0400, 0.0459,\n",
       "        0.0284, 0.0320, 0.0275, 0.0334, 0.0487, 0.0416, 0.0341, 0.0662, 0.0392,\n",
       "        0.0239, 0.0394, 0.0307, 0.0291, 0.0394, 0.0482, 0.0840, 0.0730, 0.0582,\n",
       "        0.0666, 0.0755, 0.0535, 0.0420, 0.0540, 0.0609, 0.0427, 0.0424, 0.0585,\n",
       "        0.0976, 0.0643, 0.0633, 0.0859, 0.0673, 0.0703, 0.0537, 0.0465, 0.0488,\n",
       "        0.0432, 0.0582, 0.0608, 0.0717, 0.0704, 0.0735, 0.0747, 0.0669, 0.0782,\n",
       "        0.0961, 0.0526, 0.0548, 0.0946, 0.0821, 0.0693, 0.0888, 0.0838, 0.0752,\n",
       "        0.0708, 0.0726, 0.0810, 0.0817, 0.0455, 0.0458, 0.0760, 0.0638, 0.0764,\n",
       "        0.0666, 0.0794, 0.0759, 0.0655, 0.0643, 0.0708, 0.0437, 0.0603, 0.0506,\n",
       "        0.0628, 0.0791, 0.0954, 0.0915, 0.0728, 0.0741, 0.0998, 0.0807, 0.0729,\n",
       "        0.0646, 0.0864, 0.0663, 0.0621, 0.0451, 0.0527, 0.0820, 0.0697, 0.0492,\n",
       "        0.0632, 0.0739, 0.0872, 0.0785, 0.1099, 0.0621, 0.0787, 0.0601, 0.0544,\n",
       "        0.0679, 0.0654, 0.0775, 0.0921, 0.0716, 0.0725, 0.0741, 0.0993, 0.0938,\n",
       "        0.0646, 0.0751, 0.0718, 0.0681, 0.0783, 0.0772, 0.0731, 0.0603, 0.0988,\n",
       "        0.1070, 0.0704, 0.0976, 0.0965, 0.0578, 0.0554, 0.0486, 0.0892, 0.0673,\n",
       "        0.0786, 0.0724, 0.0668, 0.1013, 0.0872, 0.0964, 0.0698, 0.0612, 0.1059,\n",
       "        0.0780, 0.0624, 0.0819, 0.0858, 0.0583, 0.1016, 0.0633, 0.0532, 0.0817,\n",
       "        0.0894, 0.0614, 0.1046, 0.0851, 0.0968, 0.0859, 0.0890, 0.0569, 0.0543,\n",
       "        0.0502, 0.0640, 0.0546, 0.0619, 0.0969, 0.1029, 0.0644, 0.0637, 0.0550,\n",
       "        0.0698, 0.0571, 0.0535, 0.0436, 0.0633, 0.0530, 0.0548, 0.0551, 0.0605,\n",
       "        0.0720, 0.0618, 0.0572, 0.0489, 0.0391, 0.0492, 0.0401, 0.0535, 0.0589,\n",
       "        0.0544, 0.0566, 0.0528, 0.0597, 0.0715, 0.0549, 0.0510, 0.0447, 0.0492,\n",
       "        0.0460, 0.0477, 0.0529, 0.0612, 0.0666, 0.0683, 0.0561, 0.0685, 0.0619,\n",
       "        0.0926])"
      ]
     },
     "execution_count": 9,
     "metadata": {},
     "output_type": "execute_result"
    }
   ],
   "source": [
    "# CEILING VALUES OF 0-30  \n",
    "\n",
    "mean_vector"
   ]
  },
  {
   "cell_type": "markdown",
   "metadata": {},
   "source": [
    "## Null distribution"
   ]
  },
  {
   "cell_type": "code",
   "execution_count": 28,
   "metadata": {},
   "outputs": [],
   "source": [
    "extr_path = meg_path + \"/collect_data\"\n",
    "subjects_metrics_null = {}\n",
    "real_target = torch.tensor(np.array(real_target))\n",
    "real_target = real_target.reshape(real_target.shape[0], real_target.shape[1], 16, 26)"
   ]
  },
  {
   "cell_type": "code",
   "execution_count": 81,
   "metadata": {},
   "outputs": [
    {
     "name": "stderr",
     "output_type": "stream",
     "text": [
      "100%|██████████| 100/100 [05:20<00:00,  3.21s/it]\n"
     ]
    }
   ],
   "source": [
    "for repo in (os.listdir(extr_path)[3:-2]):\n",
    "    subject = repo[-2:]\n",
    "    subj_path = extr_path + '/' + repo + '/'\n",
    "    \n",
    "    if subject == '01':\n",
    "        distr_list = []\n",
    "        for i in tqdm(range(100)):\n",
    "            pred_meg_y = torch.load(os.path.join(subj_path, 'meg_prediction_ridge_'+subject+'.pt')) \n",
    "            permuted_indices = torch.randperm(pred_meg_y.shape[0])\n",
    "            pred_permuted_meg = pred_meg_y[permuted_indices]\n",
    "            pred_permuted_meg = pred_permuted_meg.reshape(pred_permuted_meg.shape[0], pred_permuted_meg.shape[1], 16, 26)\n",
    "            subjects_metrics_null['subject_'+subject] = bands_metrics(real_target, pred_permuted_meg, freq_bands)\n",
    "            list_pears = [entry['pearson_corr'] for entry in subjects_metrics_null['subject_'+subject]['beta']]\n",
    "            distr_list.append(list_pears)\n",
    "        break\n",
    "\n",
    "            "
   ]
  },
  {
   "cell_type": "code",
   "execution_count": 82,
   "metadata": {},
   "outputs": [],
   "source": [
    "distr_list = torch.tensor(distr_list)"
   ]
  },
  {
   "cell_type": "code",
   "execution_count": 89,
   "metadata": {},
   "outputs": [
    {
     "name": "stdout",
     "output_type": "stream",
     "text": [
      "7.890002601135525\n",
      "0.45570902967481536\n",
      "13.17686802729195\n",
      "2.6958359731987174\n"
     ]
    }
   ],
   "source": [
    "# gaussian way z\n",
    "\n",
    "z = []\n",
    "pears_beta = [entry['pearson_corr'] for entry in subjects_metrics['subject_01']['beta']]\n",
    "for index in range(208):\n",
    "\n",
    "    media = distr_list[:,index].mean()\n",
    "    devstd = distr_list[:,index].std()\n",
    "\n",
    "    t = float((pears_beta[index] - media)/devstd)\n",
    "    z.append(t)\n",
    "\n",
    "print(np.mean(z))\n",
    "print(np.min(z))\n",
    "print(np.max(z))\n",
    "print(np.std(z))"
   ]
  },
  {
   "cell_type": "code",
   "execution_count": 90,
   "metadata": {},
   "outputs": [
    {
     "data": {
      "text/plain": [
       "(array([ 5., 14., 15., 21., 20., 18.,  4.,  2.,  0.,  1.]),\n",
       " array([0.0720152 , 0.08441087, 0.09680655, 0.10920222, 0.12159789,\n",
       "        0.13399357, 0.14638924, 0.15878491, 0.17118059, 0.18357626,\n",
       "        0.19597193]),\n",
       " <BarContainer object of 10 artists>)"
      ]
     },
     "execution_count": 90,
     "metadata": {},
     "output_type": "execute_result"
    },
    {
     "data": {
      "image/png": "[encoded data removed]",
      "text/plain": [
       "<Figure size 640x480 with 1 Axes>"
      ]
     },
     "metadata": {},
     "output_type": "display_data"
    }
   ],
   "source": [
    "plt.hist([distr_list[:,0]])"
   ]
  },
  {
   "cell_type": "code",
   "execution_count": null,
   "metadata": {},
   "outputs": [],
   "source": [
    "# t-students\n",
    "from scipy.stats import ttest_1samp\n",
    "\n",
    "z_students = []\n",
    "pears_beta = [entry['pearson_corr'] for entry in subjects_metrics['subject_01']['beta']]\n",
    "for index in range(208):\n",
    "\n",
    "    media = distr_list[:,index].mean()\n",
    "    devstd = distr_list[:,index].std()\n",
    "\n",
    "    t_student = ttest_1samp(distr_list[:,index], pears_beta[index])\n",
    "    z_students.append(t_student)\n",
    "\n",
    "\n",
    "\n"
   ]
  }
 ],
 "metadata": {
  "kernelspec": {
   "display_name": "speech-meg",
   "language": "python",
   "name": "python3"
  },
  "language_info": {
   "codemirror_mode": {
    "name": "ipython",
    "version": 3
   },
   "file_extension": ".py",
   "mimetype": "text/x-python",
   "name": "python",
   "nbconvert_exporter": "python",
   "pygments_lexer": "ipython3",
   "version": "3.9.16"
  }
 },
 "nbformat": 4,
 "nbformat_minor": 2
}
