{
 "cells": [
  {
   "cell_type": "code",
   "execution_count": 1,
   "metadata": {},
   "outputs": [],
   "source": [
    "from collect_data import *\n",
    "from torch.utils.data import Dataset, DataLoader"
   ]
  },
  {
   "cell_type": "code",
   "execution_count": 2,
   "metadata": {},
   "outputs": [],
   "source": [
    "megsp_path = os.path.join(meg_path, 'collect_data/megsp')\n",
    "audio_path = os.path.join(meg_path, 'collect_data/audio')\n",
    "megsp_list = os.listdir(megsp_path)\n",
    "audio_list = os.listdir(audio_path)\n",
    "\n",
    "megsp_list_session_0 = [f for f in megsp_list if f.split('_')[1] == '0']\n",
    "megsp_list_session_1 = [f for f in megsp_list if f.split('_')[1] == '1']"
   ]
  },
  {
   "cell_type": "code",
   "execution_count": 3,
   "metadata": {},
   "outputs": [],
   "source": [
    "def split_tensor(tensor, train_ratio=0.7, val_ratio=0.1):\n",
    "    total_samples = tensor.size(0)\n",
    "    train_size = int(total_samples * train_ratio)\n",
    "    val_size = int(total_samples * val_ratio)\n",
    "    train_tensor = tensor[:train_size]\n",
    "    val_tensor = tensor[train_size:train_size + val_size]\n",
    "    test_tensor = tensor[train_size + val_size:]\n",
    "    return train_tensor, val_tensor, test_tensor\n",
    "\n",
    "\n",
    "def get_splitted_tensor(file_list, path):\n",
    "    tensor_list_train = []\n",
    "    tensor_list_valid = []\n",
    "    tensor_list_test = []\n",
    "    for file_name in file_list:\n",
    "        file_path = os.path.join(path, file_name)\n",
    "        tensor = torch.load(file_path)\n",
    "        train_tensor, val_tensor, test_tensor = split_tensor(tensor)\n",
    "        tensor_list_train.append(train_tensor)\n",
    "        tensor_list_valid.append(val_tensor)\n",
    "        tensor_list_test.append(test_tensor)\n",
    "    tensor_train = torch.cat(tensor_list_train, dim=0)\n",
    "    tensor_valid = torch.cat(tensor_list_valid, dim=0)\n",
    "    tensor_test = torch.cat(tensor_list_test, dim=0)\n",
    "    return tensor_train, tensor_valid, tensor_test\n",
    "\n"
   ]
  },
  {
   "cell_type": "code",
   "execution_count": 4,
   "metadata": {},
   "outputs": [
    {
     "name": "stdout",
     "output_type": "stream",
     "text": [
      "DIMENSION_AUDIO_TENSOR_TRAIN:  torch.Size([11958, 257, 376])\n",
      "DIMENSION_AUDIO_TENSOR_VALID:  torch.Size([1684, 257, 376])\n",
      "DIMENSION_AUDIO_TENSOR_TEST:  torch.Size([3480, 257, 376])\n",
      "DIMENSION_MEG_TENSOR_TRAIN:  torch.Size([11958, 208, 16, 26])\n",
      "DIMENSION_MEG_TENSOR_VALID:  torch.Size([1684, 208, 16, 26])\n",
      "DIMENSION_MEG_TENSOR_TEST:  torch.Size([3480, 208, 16, 26])\n"
     ]
    }
   ],
   "source": [
    "audio_tensor_train, audio_tensor_valid, audio_tensor_test = get_splitted_tensor(audio_list, audio_path)\n",
    "audio_tensor_train = torch.cat((audio_tensor_train, audio_tensor_train), 0)\n",
    "audio_tensor_valid = torch.cat((audio_tensor_valid, audio_tensor_valid), 0)\n",
    "audio_tensor_test = torch.cat((audio_tensor_test, audio_tensor_test), 0)\n",
    "print('DIMENSION_AUDIO_TENSOR_TRAIN: ', audio_tensor_train.shape)\n",
    "print('DIMENSION_AUDIO_TENSOR_VALID: ', audio_tensor_valid.shape)\n",
    "print('DIMENSION_AUDIO_TENSOR_TEST: ', audio_tensor_test.shape)\n",
    "\n",
    "meg_0_tensor_train, meg_0_tensor_valid, meg_0_tensor_test = get_splitted_tensor(megsp_list_session_0, megsp_path)\n",
    "meg_1_tensor_train, meg_1_tensor_valid, meg_1_tensor_test = get_splitted_tensor(megsp_list_session_1, megsp_path)\n",
    "meg_tensor_train = torch.cat((meg_0_tensor_train, meg_1_tensor_train), 0)\n",
    "meg_tensor_valid = torch.cat((meg_0_tensor_valid, meg_1_tensor_valid), 0)\n",
    "meg_tensor_test = torch.cat((meg_0_tensor_test, meg_1_tensor_test), 0)\n",
    "print('DIMENSION_MEG_TENSOR_TRAIN: ', meg_tensor_train.shape)\n",
    "print('DIMENSION_MEG_TENSOR_VALID: ', meg_tensor_valid.shape)\n",
    "print('DIMENSION_MEG_TENSOR_TEST: ', meg_tensor_test.shape)\n"
   ]
  },
  {
   "cell_type": "code",
   "execution_count": null,
   "metadata": {},
   "outputs": [],
   "source": [
    "class CustomDataset(Dataset):\n",
    "    def __init__(self, X, Y):\n",
    "        \"\"\"\n",
    "        \"\"\"\n",
    "        assert X.size(0) == Y.size(0), \"The number of input and output samples must be the same\"\n",
    "        self.X = X\n",
    "        self.Y = Y\n",
    "\n",
    "    def __len__(self):\n",
    "        return len(self.X)\n",
    "\n",
    "    def __getitem__(self, idx):\n",
    "        return self.X[idx], self.Y[idx]\n",
    "    \n",
    "\n",
    "train_dataset = CustomDataset(audio_tensor_train, meg_0_tensor_train)\n",
    "valid_dataset = CustomDataset(audio_tensor_valid, meg_0_tensor_valid)\n",
    "test_dataset = CustomDataset(audio_tensor_test, meg_0_tensor_test)\n",
    "\n",
    "batch_size = 32  # --> da scegliere\n",
    "train_loader = DataLoader(train_dataset, batch_size=batch_size, shuffle=True)\n",
    "valid_loader = DataLoader(valid_dataset, batch_size=batch_size, shuffle=False)\n",
    "test_loader = DataLoader(test_dataset, batch_size=batch_size, shuffle=False)"
   ]
  },
  {
   "cell_type": "code",
   "execution_count": null,
   "metadata": {},
   "outputs": [],
   "source": []
  }
 ],
 "metadata": {
  "kernelspec": {
   "display_name": "speech-meg",
   "language": "python",
   "name": "python3"
  },
  "language_info": {
   "codemirror_mode": {
    "name": "ipython",
    "version": 3
   },
   "file_extension": ".py",
   "mimetype": "text/x-python",
   "name": "python",
   "nbconvert_exporter": "python",
   "pygments_lexer": "ipython3",
   "version": "3.9.0"
  }
 },
 "nbformat": 4,
 "nbformat_minor": 2
}
