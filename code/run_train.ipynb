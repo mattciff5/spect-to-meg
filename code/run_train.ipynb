{
 "cells": [
  {
   "cell_type": "code",
   "execution_count": 41,
   "metadata": {},
   "outputs": [],
   "source": [
    "from collect_data import *"
   ]
  },
  {
   "cell_type": "code",
   "execution_count": 42,
   "metadata": {},
   "outputs": [],
   "source": [
    "megsp_path = os.path.join(meg_path, 'collect_data/megsp')\n",
    "audio_path = os.path.join(meg_path, 'collect_data/audio')\n",
    "megsp_list = os.listdir(megsp_path)\n",
    "audio_list = os.listdir(audio_path)"
   ]
  },
  {
   "cell_type": "code",
   "execution_count": 43,
   "metadata": {},
   "outputs": [
    {
     "data": {
      "text/plain": [
       "['audio___0_lw1_0.pt',\n",
       " 'audio___0_lw1_1.pt',\n",
       " 'audio___0_lw1_2.pt',\n",
       " 'audio___0_lw1_3.pt',\n",
       " 'audio___1_cable_spool_fort_0.pt',\n",
       " 'audio___1_cable_spool_fort_1.pt',\n",
       " 'audio___1_cable_spool_fort_2.pt',\n",
       " 'audio___1_cable_spool_fort_3.pt',\n",
       " 'audio___1_cable_spool_fort_4.pt',\n",
       " 'audio___1_cable_spool_fort_5.pt',\n",
       " 'audio___2_easy_money_0.pt',\n",
       " 'audio___2_easy_money_1.pt',\n",
       " 'audio___2_easy_money_2.pt',\n",
       " 'audio___2_easy_money_3.pt',\n",
       " 'audio___2_easy_money_4.pt',\n",
       " 'audio___2_easy_money_5.pt',\n",
       " 'audio___2_easy_money_6.pt',\n",
       " 'audio___2_easy_money_7.pt']"
      ]
     },
     "execution_count": 43,
     "metadata": {},
     "output_type": "execute_result"
    }
   ],
   "source": [
    "audio_list"
   ]
  },
  {
   "cell_type": "code",
   "execution_count": 44,
   "metadata": {},
   "outputs": [
    {
     "name": "stdout",
     "output_type": "stream",
     "text": [
      "DIMENSION audio___0_lw1_0.pt:  torch.Size([180, 257, 376])\n",
      "DIMENSION audio___0_lw1_1.pt:  torch.Size([139, 257, 376])\n",
      "DIMENSION audio___0_lw1_2.pt:  torch.Size([225, 257, 376])\n",
      "DIMENSION audio___0_lw1_3.pt:  torch.Size([124, 257, 376])\n",
      "DIMENSION audio___1_cable_spool_fort_0.pt:  torch.Size([300, 257, 376])\n",
      "DIMENSION audio___1_cable_spool_fort_1.pt:  torch.Size([325, 257, 376])\n",
      "DIMENSION audio___1_cable_spool_fort_2.pt:  torch.Size([231, 257, 376])\n",
      "DIMENSION audio___1_cable_spool_fort_3.pt:  torch.Size([249, 257, 376])\n",
      "DIMENSION audio___1_cable_spool_fort_4.pt:  torch.Size([282, 257, 376])\n",
      "DIMENSION audio___1_cable_spool_fort_5.pt:  torch.Size([116, 257, 376])\n",
      "DIMENSION audio___2_easy_money_0.pt:  torch.Size([257, 257, 376])\n",
      "DIMENSION audio___2_easy_money_1.pt:  torch.Size([190, 257, 376])\n",
      "DIMENSION audio___2_easy_money_2.pt:  torch.Size([428, 257, 376])\n",
      "DIMENSION audio___2_easy_money_3.pt:  torch.Size([378, 257, 376])\n",
      "DIMENSION audio___2_easy_money_4.pt:  torch.Size([319, 257, 376])\n",
      "DIMENSION audio___2_easy_money_5.pt:  torch.Size([410, 257, 376])\n",
      "DIMENSION audio___2_easy_money_6.pt:  torch.Size([323, 257, 376])\n",
      "DIMENSION audio___2_easy_money_7.pt:  torch.Size([332, 257, 376])\n",
      "DIMENSION_AUDIO_TENSOR:  torch.Size([4808, 257, 376])\n"
     ]
    }
   ],
   "source": [
    "audio_tensor_list = []\n",
    "\n",
    "for file_name in audio_list:\n",
    "    file_path = os.path.join(audio_path, file_name)\n",
    "    tensor = torch.load(file_path)\n",
    "    print('DIMENSION ' + file_name + ': ', tensor.shape)\n",
    "    audio_tensor_list.append(tensor)\n",
    "\n",
    "audio_tensor = torch.cat(audio_tensor_list, dim=0)\n",
    "print('DIMENSION_AUDIO_TENSOR: ', audio_tensor.shape)"
   ]
  },
  {
   "cell_type": "code",
   "execution_count": null,
   "metadata": {},
   "outputs": [],
   "source": []
  },
  {
   "cell_type": "code",
   "execution_count": null,
   "metadata": {},
   "outputs": [],
   "source": []
  }
 ],
 "metadata": {
  "kernelspec": {
   "display_name": "speech-meg",
   "language": "python",
   "name": "python3"
  },
  "language_info": {
   "codemirror_mode": {
    "name": "ipython",
    "version": 3
   },
   "file_extension": ".py",
   "mimetype": "text/x-python",
   "name": "python",
   "nbconvert_exporter": "python",
   "pygments_lexer": "ipython3",
   "version": "3.9.16"
  }
 },
 "nbformat": 4,
 "nbformat_minor": 2
}
