{
 "cells": [
  {
   "cell_type": "code",
   "execution_count": 1,
   "metadata": {},
   "outputs": [],
   "source": [
    "from collect_data import *"
   ]
  },
  {
   "cell_type": "code",
   "execution_count": 2,
   "metadata": {},
   "outputs": [
    {
     "data": {
      "text/plain": [
       "['index.html?zip=',\n",
       " 'README.txt',\n",
       " 'participants.tsv',\n",
       " 'participants.json',\n",
       " 'dataset_description.json',\n",
       " 'sub-11',\n",
       " 'sub-10',\n",
       " 'sub-09',\n",
       " 'sub-08',\n",
       " 'sub-07',\n",
       " 'sub-06',\n",
       " 'sub-05',\n",
       " 'sub-04',\n",
       " 'sub-03',\n",
       " 'sub-02',\n",
       " 'sub-01',\n",
       " 'stimuli',\n",
       " 'meg.gz']"
      ]
     },
     "execution_count": 2,
     "metadata": {},
     "output_type": "execute_result"
    }
   ],
   "source": [
    "meg_path = '/data01/data/MEG'\n",
    "os.listdir(meg_path)"
   ]
  },
  {
   "cell_type": "code",
   "execution_count": 3,
   "metadata": {},
   "outputs": [
    {
     "name": "stdout",
     "output_type": "stream",
     "text": [
      "WAVE FILES DURATION:  {'lw1': 318.1481632653061, 'lw1_3': 53.072426303854876, 'lw1_2': 93.7512925170068, 'lw1_1': 75.44276643990929, 'lw1_0': 95.88167800453515, 'easy_money_7': 129.30312925170068, 'easy_money_6': 123.42730158730159, 'easy_money_4': 163.68920634920636, 'easy_money_5': 142.36866213151927, 'easy_money_3': 141.97519274376418, 'easy_money_0': 143.12875283446712, 'easy_money_2': 180.43360544217688, 'easy_money_1': 104.10834467120182, 'cable_spool_fort_4': 123.26390022675737, 'cable_spool_fort_5': 54.69605442176871, 'cable_spool_fort_3': 105.82820861678005, 'cable_spool_fort_2': 137.65614512471655, 'cable_spool_fort_1': 134.8726984126984, 'cable_spool_fort_0': 100.59777777777778, 'the_black_willow_9': 188.23668934240362, 'the_black_willow_8': 142.4142403628118, 'the_black_willow_7': 172.399410430839, 'the_black_willow_6': 128.21628117913832, 'the_black_willow_5': 81.94331065759637, 'the_black_willow_4': 110.45659863945578, 'the_black_willow_2': 125.23859410430839, 'the_black_willow_3': 131.8818140589569, 'the_black_willow_10': 189.4689342403628, 'the_black_willow_11': 119.1855328798186, 'the_black_willow_1': 149.3205442176871, 'the_black_willow_0': 135.09065759637187}\n",
      "WAVE FILES WITH\\ NUMBERS:  {'lw1': 0, 'cable_spool_fort': 1, 'easy_money': 2, 'the_black_willow': 3}\n"
     ]
    }
   ],
   "source": [
    "stimuli_path = meg_path + '/stimuli/audio'\n",
    "wav_files_duration = {}\n",
    "\n",
    "for filename in os.listdir(stimuli_path):\n",
    "    if filename.endswith('.wav'): \n",
    "        file_path = os.path.join(stimuli_path, filename)\n",
    "        y, sr = librosa.load(file_path, sr=None)\n",
    "        duration = librosa.get_duration(y=y, sr=sr)\n",
    "        wav_files_duration[filename.rstrip('.wav')] = duration\n",
    "print('WAVE FILES DURATION: ',wav_files_duration)\n",
    "\n",
    "wav_files_without_numb = {'lw1': 0, 'cable_spool_fort': 1, 'easy_money': 2, 'the_black_willow': 3}\n",
    "wav_list_without_numb = list(wav_files_without_numb.keys())\n",
    "print('WAVE FILES WITH\\ NUMBERS: ',wav_files_without_numb)\n",
    "\n"
   ]
  },
  {
   "cell_type": "code",
   "execution_count": 4,
   "metadata": {},
   "outputs": [
    {
     "name": "stdout",
     "output_type": "stream",
     "text": [
      "Extracting SQD Parameters from /data01/data/MEG/sub-01/ses-0/meg/sub-01_ses-0_task-0_meg.con...\n",
      "Creating Raw.info structure...\n",
      "Setting channel info structure...\n",
      "Creating Info structure...\n",
      "Ready.\n",
      "Reading events from /data01/data/MEG/sub-01/ses-0/meg/sub-01_ses-0_task-0_events.tsv.\n",
      "Reading channel info from /data01/data/MEG/sub-01/ses-0/meg/sub-01_ses-0_task-0_channels.tsv.\n",
      "The stimulus channel \"STI 014\" is present in the raw data, but not included in channels.tsv. Removing the channel.\n",
      "Reading 0 ... 395999  =      0.000 ...   395.999 secs...\n"
     ]
    },
    {
     "name": "stderr",
     "output_type": "stream",
     "text": [
      "/tmp/ipykernel_577354/314298988.py:8: RuntimeWarning: The unit for channel(s) MISC 001, MISC 002, MISC 003, MISC 004, MISC 005, MISC 006, MISC 007, MISC 008, MISC 009, MISC 010, MISC 011, MISC 012, MISC 013, MISC 014, MISC 015, MISC 016, MISC 017, MISC 018, MISC 019, MISC 020, MISC 021, MISC 022, MISC 023, MISC 024, MISC 025, MISC 026, MISC 027, MISC 028, MISC 029, MISC 030, MISC 031, MISC 032 has changed from V to NA.\n",
      "  raw = mne_bids.read_raw_bids(bids_path)\n"
     ]
    }
   ],
   "source": [
    "bids_path = mne_bids.BIDSPath(\n",
    "    subject = '01',\n",
    "    session = '0', \n",
    "    task = '0', \n",
    "    datatype = \"meg\", \n",
    "    root = meg_path,\n",
    ")\n",
    "raw = mne_bids.read_raw_bids(bids_path) \n",
    "raw.load_data() # channels X times, no data\n",
    "df = raw.annotations.to_data_frame()\n",
    "df = pd.DataFrame(df.description.apply(eval).to_list())"
   ]
  },
  {
   "cell_type": "code",
   "execution_count": 5,
   "metadata": {},
   "outputs": [
    {
     "name": "stdout",
     "output_type": "stream",
     "text": [
      "RAW_SHAPE:  (256, 396000)\n"
     ]
    }
   ],
   "source": [
    "x = raw.get_data()\n",
    "sampling_freq = raw.info[\"sfreq\"] \n",
    "print('RAW_SHAPE: ', x.shape)"
   ]
  },
  {
   "cell_type": "code",
   "execution_count": 6,
   "metadata": {},
   "outputs": [
    {
     "name": "stderr",
     "output_type": "stream",
     "text": [
      "/home/matteoc/spect-to-meg/collect_data.py:28: UserWarning: Creating a tensor from a list of numpy.ndarrays is extremely slow. Please consider converting the list to a single numpy.ndarray with numpy.array() before converting to a tensor. (Triggered internally at /croot/pytorch_1686931851744/work/torch/csrc/utils/tensor_new.cpp:245.)\n",
      "  data_tensor = torch.tensor(data_meg_chunks)\n"
     ]
    },
    {
     "name": "stdout",
     "output_type": "stream",
     "text": [
      "MEG_SPECTR_SHAPE:  torch.Size([132, 256, 1025, 6])\n"
     ]
    }
   ],
   "source": [
    "data_meg_chunks = []\n",
    "meg_from_raw = get_meg_from_raw(raw, data_meg_chunks, sampling_freq)\n",
    "meg_spectr = get_meg_spectrogram(meg_from_raw)\n",
    "print('MEG_SPECTR_SHAPE: ', meg_spectr.shape)\n"
   ]
  },
  {
   "cell_type": "code",
   "execution_count": 17,
   "metadata": {},
   "outputs": [
    {
     "name": "stdout",
     "output_type": "stream",
     "text": [
      "AUDIO_PATH:  /data01/data/MEG/stimuli/audio/lw1.wav\n",
      "AUDIO_LENGTH_SAMPLES:  (5090371,)\n",
      "AUDIO_LENGTH_SECONDS:  318.1481875\n"
     ]
    }
   ],
   "source": [
    "audio_path = stimuli_path + '/' + wav_list_without_numb[0] + '' + '.wav'\n",
    "print('AUDIO_PATH: ',audio_path)\n",
    "audio, sr = librosa.load(audio_path, sr=sampling_audio)\n",
    "tot_length_audio = audio.shape[0] / sr\n",
    "print('AUDIO_LENGTH_SAMPLES: ',audio.shape)\n",
    "print('AUDIO_LENGTH_SECONDS: ',tot_length_audio)"
   ]
  },
  {
   "cell_type": "code",
   "execution_count": 18,
   "metadata": {},
   "outputs": [
    {
     "name": "stdout",
     "output_type": "stream",
     "text": [
      "AUDIO_SPECTR_SHAPE:  torch.Size([106, 1025, 94])\n"
     ]
    }
   ],
   "source": [
    "data_audio_chunks = []\n",
    "audio_spectr = get_audio_spectrogram(audio_path, tot_length_audio, data_audio_chunks)\n",
    "print('AUDIO_SPECTR_SHAPE: ', audio_spectr.shape)"
   ]
  },
  {
   "cell_type": "code",
   "execution_count": null,
   "metadata": {},
   "outputs": [],
   "source": []
  },
  {
   "cell_type": "code",
   "execution_count": null,
   "metadata": {},
   "outputs": [],
   "source": []
  }
 ],
 "metadata": {
  "kernelspec": {
   "display_name": "speech-meg",
   "language": "python",
   "name": "python3"
  },
  "language_info": {
   "codemirror_mode": {
    "name": "ipython",
    "version": 3
   },
   "file_extension": ".py",
   "mimetype": "text/x-python",
   "name": "python",
   "nbconvert_exporter": "python",
   "pygments_lexer": "ipython3",
   "version": "3.9.16"
  }
 },
 "nbformat": 4,
 "nbformat_minor": 2
}
