{
 "cells": [
  {
   "cell_type": "code",
   "execution_count": 1,
   "metadata": {},
   "outputs": [],
   "source": [
    "from collect_data import *"
   ]
  },
  {
   "cell_type": "code",
   "execution_count": 2,
   "metadata": {},
   "outputs": [
    {
     "data": {
      "text/plain": [
       "['index.html?zip=',\n",
       " 'README.txt',\n",
       " 'participants.tsv',\n",
       " 'participants.json',\n",
       " 'dataset_description.json',\n",
       " 'sub-11',\n",
       " 'sub-10',\n",
       " 'sub-09',\n",
       " 'sub-08',\n",
       " 'sub-07',\n",
       " 'sub-06',\n",
       " 'sub-05',\n",
       " 'sub-04',\n",
       " 'sub-03',\n",
       " 'sub-02',\n",
       " 'sub-01',\n",
       " 'stimuli',\n",
       " 'meg.gz']"
      ]
     },
     "execution_count": 2,
     "metadata": {},
     "output_type": "execute_result"
    }
   ],
   "source": [
    "meg_path = '/data01/data/MEG'\n",
    "os.listdir(meg_path)"
   ]
  },
  {
   "cell_type": "code",
   "execution_count": 3,
   "metadata": {},
   "outputs": [
    {
     "name": "stdout",
     "output_type": "stream",
     "text": [
      "WAVE FILES DURATION:  {'lw1': 318.1481632653061, 'lw1_3': 53.072426303854876, 'lw1_2': 93.7512925170068, 'lw1_1': 75.44276643990929, 'lw1_0': 95.88167800453515, 'easy_money_7': 129.30312925170068, 'easy_money_6': 123.42730158730159, 'easy_money_4': 163.68920634920636, 'easy_money_5': 142.36866213151927, 'easy_money_3': 141.97519274376418, 'easy_money_0': 143.12875283446712, 'easy_money_2': 180.43360544217688, 'easy_money_1': 104.10834467120182, 'cable_spool_fort_4': 123.26390022675737, 'cable_spool_fort_5': 54.69605442176871, 'cable_spool_fort_3': 105.82820861678005, 'cable_spool_fort_2': 137.65614512471655, 'cable_spool_fort_1': 134.8726984126984, 'cable_spool_fort_0': 100.59777777777778, 'the_black_willow_9': 188.23668934240362, 'the_black_willow_8': 142.4142403628118, 'the_black_willow_7': 172.399410430839, 'the_black_willow_6': 128.21628117913832, 'the_black_willow_5': 81.94331065759637, 'the_black_willow_4': 110.45659863945578, 'the_black_willow_2': 125.23859410430839, 'the_black_willow_3': 131.8818140589569, 'the_black_willow_10': 189.4689342403628, 'the_black_willow_11': 119.1855328798186, 'the_black_willow_1': 149.3205442176871, 'the_black_willow_0': 135.09065759637187}\n",
      "WAVE FILES WITH\\ NUMBERS:  {'lw1': 0, 'cable_spool_fort': 1, 'easy_money': 2, 'the_black_willow': 3}\n"
     ]
    }
   ],
   "source": [
    "stimuli_path = meg_path + '/stimuli/audio'\n",
    "wav_files_duration = {}\n",
    "\n",
    "for filename in os.listdir(stimuli_path):\n",
    "    if filename.endswith('.wav'): \n",
    "        file_path = os.path.join(stimuli_path, filename)\n",
    "        y, sr = librosa.load(file_path, sr=None)\n",
    "        duration = librosa.get_duration(y=y, sr=sr)\n",
    "        wav_files_duration[filename.rstrip('.wav')] = duration\n",
    "print('WAVE FILES DURATION: ',wav_files_duration)\n",
    "\n",
    "wav_files_without_numb = {'lw1': 0, 'cable_spool_fort': 1, 'easy_money': 2, 'the_black_willow': 3}\n",
    "wav_list_without_numb = list(wav_files_without_numb.keys())\n",
    "print('WAVE FILES WITH\\ NUMBERS: ',wav_files_without_numb)\n",
    "\n"
   ]
  },
  {
   "cell_type": "code",
   "execution_count": 4,
   "metadata": {},
   "outputs": [
    {
     "name": "stdout",
     "output_type": "stream",
     "text": [
      "Extracting SQD Parameters from /data01/data/MEG/sub-01/ses-0/meg/sub-01_ses-0_task-0_meg.con...\n",
      "Creating Raw.info structure...\n",
      "Setting channel info structure...\n",
      "Creating Info structure...\n",
      "Ready.\n",
      "Reading events from /data01/data/MEG/sub-01/ses-0/meg/sub-01_ses-0_task-0_events.tsv.\n",
      "Reading channel info from /data01/data/MEG/sub-01/ses-0/meg/sub-01_ses-0_task-0_channels.tsv.\n",
      "The stimulus channel \"STI 014\" is present in the raw data, but not included in channels.tsv. Removing the channel.\n",
      "Reading 0 ... 395999  =      0.000 ...   395.999 secs...\n"
     ]
    },
    {
     "name": "stderr",
     "output_type": "stream",
     "text": [
      "/tmp/ipykernel_656130/2560004595.py:8: RuntimeWarning: The unit for channel(s) MISC 001, MISC 002, MISC 003, MISC 004, MISC 005, MISC 006, MISC 007, MISC 008, MISC 009, MISC 010, MISC 011, MISC 012, MISC 013, MISC 014, MISC 015, MISC 016, MISC 017, MISC 018, MISC 019, MISC 020, MISC 021, MISC 022, MISC 023, MISC 024, MISC 025, MISC 026, MISC 027, MISC 028, MISC 029, MISC 030, MISC 031, MISC 032 has changed from V to NA.\n",
      "  raw = mne_bids.read_raw_bids(bids_path)\n"
     ]
    },
    {
     "name": "stdout",
     "output_type": "stream",
     "text": [
      "Filtering raw data in 1 contiguous segment\n",
      "Setting up band-pass filter from 0.5 - 30 Hz\n",
      "\n",
      "FIR filter parameters\n",
      "---------------------\n",
      "Designing a one-pass, zero-phase, non-causal bandpass filter:\n",
      "- Windowed time-domain design (firwin) method\n",
      "- Hamming window with 0.0194 passband ripple and 53 dB stopband attenuation\n",
      "- Lower passband edge: 0.50\n",
      "- Lower transition bandwidth: 0.50 Hz (-6 dB cutoff frequency: 0.25 Hz)\n",
      "- Upper passband edge: 30.00 Hz\n",
      "- Upper transition bandwidth: 7.50 Hz (-6 dB cutoff frequency: 33.75 Hz)\n",
      "- Filter length: 6601 samples (6.601 s)\n",
      "\n",
      "NOTE: pick_types() is a legacy function. New code should use inst.pick(...).\n",
      "CHECK_RAW <RawKIT | sub-01_ses-0_task-0_meg.con, 208 x 396000 (396.0 s), ~628.6 MB, data loaded>\n"
     ]
    }
   ],
   "source": [
    "bids_path = mne_bids.BIDSPath(\n",
    "    subject = '01',\n",
    "    session = '0', \n",
    "    task = '0', \n",
    "    datatype = \"meg\", \n",
    "    root = meg_path,\n",
    ")\n",
    "raw = mne_bids.read_raw_bids(bids_path) \n",
    "raw.load_data().filter(0.5, 30.0, n_jobs=1)   \n",
    "df = raw.annotations.to_data_frame()\n",
    "df = pd.DataFrame(df.description.apply(eval).to_list())\n",
    "raw = raw.pick_types(\n",
    "    meg=True, misc=False, eeg=False, eog=False, ecg=False\n",
    ")\n",
    "print('CHECK_RAW', raw)\n"
   ]
  },
  {
   "cell_type": "code",
   "execution_count": 5,
   "metadata": {},
   "outputs": [
    {
     "name": "stdout",
     "output_type": "stream",
     "text": [
      "RAW_SHAPE:  (208, 396000)\n"
     ]
    }
   ],
   "source": [
    "x = raw.get_data()\n",
    "sampling_freq = raw.info[\"sfreq\"] \n",
    "print('RAW_SHAPE: ', x.shape)"
   ]
  },
  {
   "cell_type": "code",
   "execution_count": 6,
   "metadata": {},
   "outputs": [
    {
     "name": "stdout",
     "output_type": "stream",
     "text": [
      "Adding metadata with 18 columns\n",
      "180 matching events found\n",
      "Applying baseline correction (mode: mean)\n",
      "0 projection items activated\n",
      "Using data from preloaded Raw for 180 events and 3201 original time points ...\n",
      "0 bad epochs dropped\n",
      "Applying baseline correction (mode: mean)\n"
     ]
    },
    {
     "name": "stderr",
     "output_type": "stream",
     "text": [
      "/home/matteoc/spect-to-meg/collect_data.py:97: ComplexWarning: Casting complex values to real discards the imaginary part\n",
      "  spectrograms[i, j] = d\n"
     ]
    },
    {
     "name": "stdout",
     "output_type": "stream",
     "text": [
      "MEG_SPECTR_SHAPE:  torch.Size([180, 208, 257, 26])\n"
     ]
    }
   ],
   "source": [
    "get_epochs = get_epochs(raw, 0.0)\n",
    "epoch_spectr = get_meg_from_raw_epochs(get_epochs)\n",
    "meg_spectr = get_meg_spectrogram(epoch_spectr)\n",
    "print('MEG_SPECTR_SHAPE: ', meg_spectr.shape)\n"
   ]
  },
  {
   "cell_type": "code",
   "execution_count": null,
   "metadata": {},
   "outputs": [],
   "source": [
    "for i in range(meg_spectr.shape[0]):\n",
    "    plt.figure(figsize=(10, 4))\n",
    "    #librosa.display.specshow(meg_spectr[i][1].numpy(), sr=1000, x_axis='time', y_axis='log')\n",
    "    plt.imshow(meg_spectr[i][1].numpy())\n",
    "    plt.colorbar(format='%+2.0f dB')\n",
    "    plt.title('Spectrogram')\n",
    "    plt.tight_layout()\n",
    "    plt.show()\n",
    "    break"
   ]
  },
  {
   "cell_type": "code",
   "execution_count": 7,
   "metadata": {},
   "outputs": [
    {
     "data": {
      "text/plain": [
       "tensor(1.9872e-07, dtype=torch.float64)"
      ]
     },
     "execution_count": 7,
     "metadata": {},
     "output_type": "execute_result"
    }
   ],
   "source": [
    "meg_spectr.sum()"
   ]
  },
  {
   "cell_type": "code",
   "execution_count": 15,
   "metadata": {},
   "outputs": [
    {
     "name": "stdout",
     "output_type": "stream",
     "text": [
      "AUDIO_PATH:  /data01/data/MEG/stimuli/audio/lw1_0.wav\n",
      "AUDIO_LENGTH_SAMPLES:  (1534107,)\n",
      "AUDIO_LENGTH_SECONDS:  95.8816875\n"
     ]
    }
   ],
   "source": [
    "audio_path = stimuli_path + '/' + wav_list_without_numb[0] + '_0' + '.wav'\n",
    "print('AUDIO_PATH: ',audio_path)\n",
    "audio, sr = librosa.load(audio_path, sr=sampling_audio)\n",
    "tot_length_audio = audio.shape[0] / sr\n",
    "print('AUDIO_LENGTH_SAMPLES: ',audio.shape)\n",
    "print('AUDIO_LENGTH_SECONDS: ',tot_length_audio)"
   ]
  },
  {
   "cell_type": "code",
   "execution_count": 16,
   "metadata": {},
   "outputs": [
    {
     "name": "stderr",
     "output_type": "stream",
     "text": [
      "/home/matteoc/spect-to-meg/collect_data.py:108: UserWarning: amplitude_to_db was called on complex input so phase information will be discarded. To suppress this warning, call amplitude_to_db(np.abs(S)) instead.\n",
      "  y_db = librosa.amplitude_to_db(librosa.stft(y, n_fft=n_fft, hop_length=hop_length), ref=np.max)\n"
     ]
    },
    {
     "name": "stdout",
     "output_type": "stream",
     "text": [
      "AUDIO_SPECTR_SHAPE:  torch.Size([180, 257, 376])\n"
     ]
    }
   ],
   "source": [
    "audio_spectr = get_audio_spectrogram(audio_path, get_epochs)\n",
    "print('AUDIO_SPECTR_SHAPE: ', audio_spectr.shape)"
   ]
  },
  {
   "cell_type": "code",
   "execution_count": null,
   "metadata": {},
   "outputs": [],
   "source": []
  }
 ],
 "metadata": {
  "kernelspec": {
   "display_name": "speech-meg",
   "language": "python",
   "name": "python3"
  },
  "language_info": {
   "codemirror_mode": {
    "name": "ipython",
    "version": 3
   },
   "file_extension": ".py",
   "mimetype": "text/x-python",
   "name": "python",
   "nbconvert_exporter": "python",
   "pygments_lexer": "ipython3",
   "version": "3.9.16"
  }
 },
 "nbformat": 4,
 "nbformat_minor": 2
}
